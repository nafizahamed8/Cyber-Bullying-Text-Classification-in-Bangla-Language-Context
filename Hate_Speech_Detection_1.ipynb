{
  "nbformat": 4,
  "nbformat_minor": 0,
  "metadata": {
    "colab": {
      "provenance": []
    },
    "kernelspec": {
      "name": "python3",
      "display_name": "Python 3"
    },
    "language_info": {
      "name": "python"
    },
    "widgets": {
      "application/vnd.jupyter.widget-state+json": {
        "19add75fda8c4f469ceca118ab4b6380": {
          "model_module": "@jupyter-widgets/controls",
          "model_name": "HBoxModel",
          "model_module_version": "1.5.0",
          "state": {
            "_dom_classes": [],
            "_model_module": "@jupyter-widgets/controls",
            "_model_module_version": "1.5.0",
            "_model_name": "HBoxModel",
            "_view_count": null,
            "_view_module": "@jupyter-widgets/controls",
            "_view_module_version": "1.5.0",
            "_view_name": "HBoxView",
            "box_style": "",
            "children": [
              "IPY_MODEL_e34341227bb4474d8810e184a4d441f6",
              "IPY_MODEL_c9830253194a4e328f34a01b705ba022",
              "IPY_MODEL_d0837165ead9442396c244a42a2bf9c6"
            ],
            "layout": "IPY_MODEL_fbe602d071104e82b904c6b23f23cbfb"
          }
        },
        "e34341227bb4474d8810e184a4d441f6": {
          "model_module": "@jupyter-widgets/controls",
          "model_name": "HTMLModel",
          "model_module_version": "1.5.0",
          "state": {
            "_dom_classes": [],
            "_model_module": "@jupyter-widgets/controls",
            "_model_module_version": "1.5.0",
            "_model_name": "HTMLModel",
            "_view_count": null,
            "_view_module": "@jupyter-widgets/controls",
            "_view_module_version": "1.5.0",
            "_view_name": "HTMLView",
            "description": "",
            "description_tooltip": null,
            "layout": "IPY_MODEL_b0e139143074469b96636712f3ca43d1",
            "placeholder": "​",
            "style": "IPY_MODEL_7adff896431e438e930733b29cc08eba",
            "value": "tokenizer_config.json: 100%"
          }
        },
        "c9830253194a4e328f34a01b705ba022": {
          "model_module": "@jupyter-widgets/controls",
          "model_name": "FloatProgressModel",
          "model_module_version": "1.5.0",
          "state": {
            "_dom_classes": [],
            "_model_module": "@jupyter-widgets/controls",
            "_model_module_version": "1.5.0",
            "_model_name": "FloatProgressModel",
            "_view_count": null,
            "_view_module": "@jupyter-widgets/controls",
            "_view_module_version": "1.5.0",
            "_view_name": "ProgressView",
            "bar_style": "success",
            "description": "",
            "description_tooltip": null,
            "layout": "IPY_MODEL_62612151fb074b0a96f99d7d4203bafc",
            "max": 49,
            "min": 0,
            "orientation": "horizontal",
            "style": "IPY_MODEL_e28d52afb6174cc89653b1844d126bab",
            "value": 49
          }
        },
        "d0837165ead9442396c244a42a2bf9c6": {
          "model_module": "@jupyter-widgets/controls",
          "model_name": "HTMLModel",
          "model_module_version": "1.5.0",
          "state": {
            "_dom_classes": [],
            "_model_module": "@jupyter-widgets/controls",
            "_model_module_version": "1.5.0",
            "_model_name": "HTMLModel",
            "_view_count": null,
            "_view_module": "@jupyter-widgets/controls",
            "_view_module_version": "1.5.0",
            "_view_name": "HTMLView",
            "description": "",
            "description_tooltip": null,
            "layout": "IPY_MODEL_6060e164374b4ae395a0464ce0c89a24",
            "placeholder": "​",
            "style": "IPY_MODEL_98e433a469a242c3a991d5c9327b9485",
            "value": " 49.0/49.0 [00:00&lt;00:00, 3.51kB/s]"
          }
        },
        "fbe602d071104e82b904c6b23f23cbfb": {
          "model_module": "@jupyter-widgets/base",
          "model_name": "LayoutModel",
          "model_module_version": "1.2.0",
          "state": {
            "_model_module": "@jupyter-widgets/base",
            "_model_module_version": "1.2.0",
            "_model_name": "LayoutModel",
            "_view_count": null,
            "_view_module": "@jupyter-widgets/base",
            "_view_module_version": "1.2.0",
            "_view_name": "LayoutView",
            "align_content": null,
            "align_items": null,
            "align_self": null,
            "border": null,
            "bottom": null,
            "display": null,
            "flex": null,
            "flex_flow": null,
            "grid_area": null,
            "grid_auto_columns": null,
            "grid_auto_flow": null,
            "grid_auto_rows": null,
            "grid_column": null,
            "grid_gap": null,
            "grid_row": null,
            "grid_template_areas": null,
            "grid_template_columns": null,
            "grid_template_rows": null,
            "height": null,
            "justify_content": null,
            "justify_items": null,
            "left": null,
            "margin": null,
            "max_height": null,
            "max_width": null,
            "min_height": null,
            "min_width": null,
            "object_fit": null,
            "object_position": null,
            "order": null,
            "overflow": null,
            "overflow_x": null,
            "overflow_y": null,
            "padding": null,
            "right": null,
            "top": null,
            "visibility": null,
            "width": null
          }
        },
        "b0e139143074469b96636712f3ca43d1": {
          "model_module": "@jupyter-widgets/base",
          "model_name": "LayoutModel",
          "model_module_version": "1.2.0",
          "state": {
            "_model_module": "@jupyter-widgets/base",
            "_model_module_version": "1.2.0",
            "_model_name": "LayoutModel",
            "_view_count": null,
            "_view_module": "@jupyter-widgets/base",
            "_view_module_version": "1.2.0",
            "_view_name": "LayoutView",
            "align_content": null,
            "align_items": null,
            "align_self": null,
            "border": null,
            "bottom": null,
            "display": null,
            "flex": null,
            "flex_flow": null,
            "grid_area": null,
            "grid_auto_columns": null,
            "grid_auto_flow": null,
            "grid_auto_rows": null,
            "grid_column": null,
            "grid_gap": null,
            "grid_row": null,
            "grid_template_areas": null,
            "grid_template_columns": null,
            "grid_template_rows": null,
            "height": null,
            "justify_content": null,
            "justify_items": null,
            "left": null,
            "margin": null,
            "max_height": null,
            "max_width": null,
            "min_height": null,
            "min_width": null,
            "object_fit": null,
            "object_position": null,
            "order": null,
            "overflow": null,
            "overflow_x": null,
            "overflow_y": null,
            "padding": null,
            "right": null,
            "top": null,
            "visibility": null,
            "width": null
          }
        },
        "7adff896431e438e930733b29cc08eba": {
          "model_module": "@jupyter-widgets/controls",
          "model_name": "DescriptionStyleModel",
          "model_module_version": "1.5.0",
          "state": {
            "_model_module": "@jupyter-widgets/controls",
            "_model_module_version": "1.5.0",
            "_model_name": "DescriptionStyleModel",
            "_view_count": null,
            "_view_module": "@jupyter-widgets/base",
            "_view_module_version": "1.2.0",
            "_view_name": "StyleView",
            "description_width": ""
          }
        },
        "62612151fb074b0a96f99d7d4203bafc": {
          "model_module": "@jupyter-widgets/base",
          "model_name": "LayoutModel",
          "model_module_version": "1.2.0",
          "state": {
            "_model_module": "@jupyter-widgets/base",
            "_model_module_version": "1.2.0",
            "_model_name": "LayoutModel",
            "_view_count": null,
            "_view_module": "@jupyter-widgets/base",
            "_view_module_version": "1.2.0",
            "_view_name": "LayoutView",
            "align_content": null,
            "align_items": null,
            "align_self": null,
            "border": null,
            "bottom": null,
            "display": null,
            "flex": null,
            "flex_flow": null,
            "grid_area": null,
            "grid_auto_columns": null,
            "grid_auto_flow": null,
            "grid_auto_rows": null,
            "grid_column": null,
            "grid_gap": null,
            "grid_row": null,
            "grid_template_areas": null,
            "grid_template_columns": null,
            "grid_template_rows": null,
            "height": null,
            "justify_content": null,
            "justify_items": null,
            "left": null,
            "margin": null,
            "max_height": null,
            "max_width": null,
            "min_height": null,
            "min_width": null,
            "object_fit": null,
            "object_position": null,
            "order": null,
            "overflow": null,
            "overflow_x": null,
            "overflow_y": null,
            "padding": null,
            "right": null,
            "top": null,
            "visibility": null,
            "width": null
          }
        },
        "e28d52afb6174cc89653b1844d126bab": {
          "model_module": "@jupyter-widgets/controls",
          "model_name": "ProgressStyleModel",
          "model_module_version": "1.5.0",
          "state": {
            "_model_module": "@jupyter-widgets/controls",
            "_model_module_version": "1.5.0",
            "_model_name": "ProgressStyleModel",
            "_view_count": null,
            "_view_module": "@jupyter-widgets/base",
            "_view_module_version": "1.2.0",
            "_view_name": "StyleView",
            "bar_color": null,
            "description_width": ""
          }
        },
        "6060e164374b4ae395a0464ce0c89a24": {
          "model_module": "@jupyter-widgets/base",
          "model_name": "LayoutModel",
          "model_module_version": "1.2.0",
          "state": {
            "_model_module": "@jupyter-widgets/base",
            "_model_module_version": "1.2.0",
            "_model_name": "LayoutModel",
            "_view_count": null,
            "_view_module": "@jupyter-widgets/base",
            "_view_module_version": "1.2.0",
            "_view_name": "LayoutView",
            "align_content": null,
            "align_items": null,
            "align_self": null,
            "border": null,
            "bottom": null,
            "display": null,
            "flex": null,
            "flex_flow": null,
            "grid_area": null,
            "grid_auto_columns": null,
            "grid_auto_flow": null,
            "grid_auto_rows": null,
            "grid_column": null,
            "grid_gap": null,
            "grid_row": null,
            "grid_template_areas": null,
            "grid_template_columns": null,
            "grid_template_rows": null,
            "height": null,
            "justify_content": null,
            "justify_items": null,
            "left": null,
            "margin": null,
            "max_height": null,
            "max_width": null,
            "min_height": null,
            "min_width": null,
            "object_fit": null,
            "object_position": null,
            "order": null,
            "overflow": null,
            "overflow_x": null,
            "overflow_y": null,
            "padding": null,
            "right": null,
            "top": null,
            "visibility": null,
            "width": null
          }
        },
        "98e433a469a242c3a991d5c9327b9485": {
          "model_module": "@jupyter-widgets/controls",
          "model_name": "DescriptionStyleModel",
          "model_module_version": "1.5.0",
          "state": {
            "_model_module": "@jupyter-widgets/controls",
            "_model_module_version": "1.5.0",
            "_model_name": "DescriptionStyleModel",
            "_view_count": null,
            "_view_module": "@jupyter-widgets/base",
            "_view_module_version": "1.2.0",
            "_view_name": "StyleView",
            "description_width": ""
          }
        },
        "a5312a72f3954b5ab9ad85148dcb409d": {
          "model_module": "@jupyter-widgets/controls",
          "model_name": "HBoxModel",
          "model_module_version": "1.5.0",
          "state": {
            "_dom_classes": [],
            "_model_module": "@jupyter-widgets/controls",
            "_model_module_version": "1.5.0",
            "_model_name": "HBoxModel",
            "_view_count": null,
            "_view_module": "@jupyter-widgets/controls",
            "_view_module_version": "1.5.0",
            "_view_name": "HBoxView",
            "box_style": "",
            "children": [
              "IPY_MODEL_46385ec823824ee284ad3d00767b5546",
              "IPY_MODEL_66f680994e2847eb96c96105e73f23bd",
              "IPY_MODEL_1ef2d67c8c074b1fa05b99e06140a825"
            ],
            "layout": "IPY_MODEL_e4fe55c54b1c4a6d932d1cfdc703e588"
          }
        },
        "46385ec823824ee284ad3d00767b5546": {
          "model_module": "@jupyter-widgets/controls",
          "model_name": "HTMLModel",
          "model_module_version": "1.5.0",
          "state": {
            "_dom_classes": [],
            "_model_module": "@jupyter-widgets/controls",
            "_model_module_version": "1.5.0",
            "_model_name": "HTMLModel",
            "_view_count": null,
            "_view_module": "@jupyter-widgets/controls",
            "_view_module_version": "1.5.0",
            "_view_name": "HTMLView",
            "description": "",
            "description_tooltip": null,
            "layout": "IPY_MODEL_156def2eefaf464c8c3ca6c625d7001b",
            "placeholder": "​",
            "style": "IPY_MODEL_7a53d391cafb4c978d00ba2f4d5457ee",
            "value": "vocab.txt: 100%"
          }
        },
        "66f680994e2847eb96c96105e73f23bd": {
          "model_module": "@jupyter-widgets/controls",
          "model_name": "FloatProgressModel",
          "model_module_version": "1.5.0",
          "state": {
            "_dom_classes": [],
            "_model_module": "@jupyter-widgets/controls",
            "_model_module_version": "1.5.0",
            "_model_name": "FloatProgressModel",
            "_view_count": null,
            "_view_module": "@jupyter-widgets/controls",
            "_view_module_version": "1.5.0",
            "_view_name": "ProgressView",
            "bar_style": "success",
            "description": "",
            "description_tooltip": null,
            "layout": "IPY_MODEL_f7847768f0d841149aac751aedd0e149",
            "max": 995526,
            "min": 0,
            "orientation": "horizontal",
            "style": "IPY_MODEL_0ebf916cad9246309e4c7e193b12b3b3",
            "value": 995526
          }
        },
        "1ef2d67c8c074b1fa05b99e06140a825": {
          "model_module": "@jupyter-widgets/controls",
          "model_name": "HTMLModel",
          "model_module_version": "1.5.0",
          "state": {
            "_dom_classes": [],
            "_model_module": "@jupyter-widgets/controls",
            "_model_module_version": "1.5.0",
            "_model_name": "HTMLModel",
            "_view_count": null,
            "_view_module": "@jupyter-widgets/controls",
            "_view_module_version": "1.5.0",
            "_view_name": "HTMLView",
            "description": "",
            "description_tooltip": null,
            "layout": "IPY_MODEL_d7aa316f0ffc4217ba7f431086c24d03",
            "placeholder": "​",
            "style": "IPY_MODEL_e226cd4a29364a9ca577ca0fe84d586e",
            "value": " 996k/996k [00:00&lt;00:00, 4.58MB/s]"
          }
        },
        "e4fe55c54b1c4a6d932d1cfdc703e588": {
          "model_module": "@jupyter-widgets/base",
          "model_name": "LayoutModel",
          "model_module_version": "1.2.0",
          "state": {
            "_model_module": "@jupyter-widgets/base",
            "_model_module_version": "1.2.0",
            "_model_name": "LayoutModel",
            "_view_count": null,
            "_view_module": "@jupyter-widgets/base",
            "_view_module_version": "1.2.0",
            "_view_name": "LayoutView",
            "align_content": null,
            "align_items": null,
            "align_self": null,
            "border": null,
            "bottom": null,
            "display": null,
            "flex": null,
            "flex_flow": null,
            "grid_area": null,
            "grid_auto_columns": null,
            "grid_auto_flow": null,
            "grid_auto_rows": null,
            "grid_column": null,
            "grid_gap": null,
            "grid_row": null,
            "grid_template_areas": null,
            "grid_template_columns": null,
            "grid_template_rows": null,
            "height": null,
            "justify_content": null,
            "justify_items": null,
            "left": null,
            "margin": null,
            "max_height": null,
            "max_width": null,
            "min_height": null,
            "min_width": null,
            "object_fit": null,
            "object_position": null,
            "order": null,
            "overflow": null,
            "overflow_x": null,
            "overflow_y": null,
            "padding": null,
            "right": null,
            "top": null,
            "visibility": null,
            "width": null
          }
        },
        "156def2eefaf464c8c3ca6c625d7001b": {
          "model_module": "@jupyter-widgets/base",
          "model_name": "LayoutModel",
          "model_module_version": "1.2.0",
          "state": {
            "_model_module": "@jupyter-widgets/base",
            "_model_module_version": "1.2.0",
            "_model_name": "LayoutModel",
            "_view_count": null,
            "_view_module": "@jupyter-widgets/base",
            "_view_module_version": "1.2.0",
            "_view_name": "LayoutView",
            "align_content": null,
            "align_items": null,
            "align_self": null,
            "border": null,
            "bottom": null,
            "display": null,
            "flex": null,
            "flex_flow": null,
            "grid_area": null,
            "grid_auto_columns": null,
            "grid_auto_flow": null,
            "grid_auto_rows": null,
            "grid_column": null,
            "grid_gap": null,
            "grid_row": null,
            "grid_template_areas": null,
            "grid_template_columns": null,
            "grid_template_rows": null,
            "height": null,
            "justify_content": null,
            "justify_items": null,
            "left": null,
            "margin": null,
            "max_height": null,
            "max_width": null,
            "min_height": null,
            "min_width": null,
            "object_fit": null,
            "object_position": null,
            "order": null,
            "overflow": null,
            "overflow_x": null,
            "overflow_y": null,
            "padding": null,
            "right": null,
            "top": null,
            "visibility": null,
            "width": null
          }
        },
        "7a53d391cafb4c978d00ba2f4d5457ee": {
          "model_module": "@jupyter-widgets/controls",
          "model_name": "DescriptionStyleModel",
          "model_module_version": "1.5.0",
          "state": {
            "_model_module": "@jupyter-widgets/controls",
            "_model_module_version": "1.5.0",
            "_model_name": "DescriptionStyleModel",
            "_view_count": null,
            "_view_module": "@jupyter-widgets/base",
            "_view_module_version": "1.2.0",
            "_view_name": "StyleView",
            "description_width": ""
          }
        },
        "f7847768f0d841149aac751aedd0e149": {
          "model_module": "@jupyter-widgets/base",
          "model_name": "LayoutModel",
          "model_module_version": "1.2.0",
          "state": {
            "_model_module": "@jupyter-widgets/base",
            "_model_module_version": "1.2.0",
            "_model_name": "LayoutModel",
            "_view_count": null,
            "_view_module": "@jupyter-widgets/base",
            "_view_module_version": "1.2.0",
            "_view_name": "LayoutView",
            "align_content": null,
            "align_items": null,
            "align_self": null,
            "border": null,
            "bottom": null,
            "display": null,
            "flex": null,
            "flex_flow": null,
            "grid_area": null,
            "grid_auto_columns": null,
            "grid_auto_flow": null,
            "grid_auto_rows": null,
            "grid_column": null,
            "grid_gap": null,
            "grid_row": null,
            "grid_template_areas": null,
            "grid_template_columns": null,
            "grid_template_rows": null,
            "height": null,
            "justify_content": null,
            "justify_items": null,
            "left": null,
            "margin": null,
            "max_height": null,
            "max_width": null,
            "min_height": null,
            "min_width": null,
            "object_fit": null,
            "object_position": null,
            "order": null,
            "overflow": null,
            "overflow_x": null,
            "overflow_y": null,
            "padding": null,
            "right": null,
            "top": null,
            "visibility": null,
            "width": null
          }
        },
        "0ebf916cad9246309e4c7e193b12b3b3": {
          "model_module": "@jupyter-widgets/controls",
          "model_name": "ProgressStyleModel",
          "model_module_version": "1.5.0",
          "state": {
            "_model_module": "@jupyter-widgets/controls",
            "_model_module_version": "1.5.0",
            "_model_name": "ProgressStyleModel",
            "_view_count": null,
            "_view_module": "@jupyter-widgets/base",
            "_view_module_version": "1.2.0",
            "_view_name": "StyleView",
            "bar_color": null,
            "description_width": ""
          }
        },
        "d7aa316f0ffc4217ba7f431086c24d03": {
          "model_module": "@jupyter-widgets/base",
          "model_name": "LayoutModel",
          "model_module_version": "1.2.0",
          "state": {
            "_model_module": "@jupyter-widgets/base",
            "_model_module_version": "1.2.0",
            "_model_name": "LayoutModel",
            "_view_count": null,
            "_view_module": "@jupyter-widgets/base",
            "_view_module_version": "1.2.0",
            "_view_name": "LayoutView",
            "align_content": null,
            "align_items": null,
            "align_self": null,
            "border": null,
            "bottom": null,
            "display": null,
            "flex": null,
            "flex_flow": null,
            "grid_area": null,
            "grid_auto_columns": null,
            "grid_auto_flow": null,
            "grid_auto_rows": null,
            "grid_column": null,
            "grid_gap": null,
            "grid_row": null,
            "grid_template_areas": null,
            "grid_template_columns": null,
            "grid_template_rows": null,
            "height": null,
            "justify_content": null,
            "justify_items": null,
            "left": null,
            "margin": null,
            "max_height": null,
            "max_width": null,
            "min_height": null,
            "min_width": null,
            "object_fit": null,
            "object_position": null,
            "order": null,
            "overflow": null,
            "overflow_x": null,
            "overflow_y": null,
            "padding": null,
            "right": null,
            "top": null,
            "visibility": null,
            "width": null
          }
        },
        "e226cd4a29364a9ca577ca0fe84d586e": {
          "model_module": "@jupyter-widgets/controls",
          "model_name": "DescriptionStyleModel",
          "model_module_version": "1.5.0",
          "state": {
            "_model_module": "@jupyter-widgets/controls",
            "_model_module_version": "1.5.0",
            "_model_name": "DescriptionStyleModel",
            "_view_count": null,
            "_view_module": "@jupyter-widgets/base",
            "_view_module_version": "1.2.0",
            "_view_name": "StyleView",
            "description_width": ""
          }
        },
        "061d60ea95d84470a9f11a231b452d8c": {
          "model_module": "@jupyter-widgets/controls",
          "model_name": "HBoxModel",
          "model_module_version": "1.5.0",
          "state": {
            "_dom_classes": [],
            "_model_module": "@jupyter-widgets/controls",
            "_model_module_version": "1.5.0",
            "_model_name": "HBoxModel",
            "_view_count": null,
            "_view_module": "@jupyter-widgets/controls",
            "_view_module_version": "1.5.0",
            "_view_name": "HBoxView",
            "box_style": "",
            "children": [
              "IPY_MODEL_dc903b40effd47c99780d461be747e1f",
              "IPY_MODEL_8f675f88d4a54454a080a750e3568a02",
              "IPY_MODEL_00b8b8951243400aab10161d45392d30"
            ],
            "layout": "IPY_MODEL_dfdb39d3fe774cc6937f6a2554d6bea9"
          }
        },
        "dc903b40effd47c99780d461be747e1f": {
          "model_module": "@jupyter-widgets/controls",
          "model_name": "HTMLModel",
          "model_module_version": "1.5.0",
          "state": {
            "_dom_classes": [],
            "_model_module": "@jupyter-widgets/controls",
            "_model_module_version": "1.5.0",
            "_model_name": "HTMLModel",
            "_view_count": null,
            "_view_module": "@jupyter-widgets/controls",
            "_view_module_version": "1.5.0",
            "_view_name": "HTMLView",
            "description": "",
            "description_tooltip": null,
            "layout": "IPY_MODEL_498dc717c9024dda99d9513477adfb82",
            "placeholder": "​",
            "style": "IPY_MODEL_9240fc69c24a42249ce353069d547fca",
            "value": "tokenizer.json: 100%"
          }
        },
        "8f675f88d4a54454a080a750e3568a02": {
          "model_module": "@jupyter-widgets/controls",
          "model_name": "FloatProgressModel",
          "model_module_version": "1.5.0",
          "state": {
            "_dom_classes": [],
            "_model_module": "@jupyter-widgets/controls",
            "_model_module_version": "1.5.0",
            "_model_name": "FloatProgressModel",
            "_view_count": null,
            "_view_module": "@jupyter-widgets/controls",
            "_view_module_version": "1.5.0",
            "_view_name": "ProgressView",
            "bar_style": "success",
            "description": "",
            "description_tooltip": null,
            "layout": "IPY_MODEL_3683dd29604a472d8894feb116d7b474",
            "max": 1961828,
            "min": 0,
            "orientation": "horizontal",
            "style": "IPY_MODEL_531b428ec74a4145922ba802f960c310",
            "value": 1961828
          }
        },
        "00b8b8951243400aab10161d45392d30": {
          "model_module": "@jupyter-widgets/controls",
          "model_name": "HTMLModel",
          "model_module_version": "1.5.0",
          "state": {
            "_dom_classes": [],
            "_model_module": "@jupyter-widgets/controls",
            "_model_module_version": "1.5.0",
            "_model_name": "HTMLModel",
            "_view_count": null,
            "_view_module": "@jupyter-widgets/controls",
            "_view_module_version": "1.5.0",
            "_view_name": "HTMLView",
            "description": "",
            "description_tooltip": null,
            "layout": "IPY_MODEL_2bf0d1505ace4514b81eac10e478451a",
            "placeholder": "​",
            "style": "IPY_MODEL_8d281523dab945c7a9c340493437b69c",
            "value": " 1.96M/1.96M [00:00&lt;00:00, 2.30MB/s]"
          }
        },
        "dfdb39d3fe774cc6937f6a2554d6bea9": {
          "model_module": "@jupyter-widgets/base",
          "model_name": "LayoutModel",
          "model_module_version": "1.2.0",
          "state": {
            "_model_module": "@jupyter-widgets/base",
            "_model_module_version": "1.2.0",
            "_model_name": "LayoutModel",
            "_view_count": null,
            "_view_module": "@jupyter-widgets/base",
            "_view_module_version": "1.2.0",
            "_view_name": "LayoutView",
            "align_content": null,
            "align_items": null,
            "align_self": null,
            "border": null,
            "bottom": null,
            "display": null,
            "flex": null,
            "flex_flow": null,
            "grid_area": null,
            "grid_auto_columns": null,
            "grid_auto_flow": null,
            "grid_auto_rows": null,
            "grid_column": null,
            "grid_gap": null,
            "grid_row": null,
            "grid_template_areas": null,
            "grid_template_columns": null,
            "grid_template_rows": null,
            "height": null,
            "justify_content": null,
            "justify_items": null,
            "left": null,
            "margin": null,
            "max_height": null,
            "max_width": null,
            "min_height": null,
            "min_width": null,
            "object_fit": null,
            "object_position": null,
            "order": null,
            "overflow": null,
            "overflow_x": null,
            "overflow_y": null,
            "padding": null,
            "right": null,
            "top": null,
            "visibility": null,
            "width": null
          }
        },
        "498dc717c9024dda99d9513477adfb82": {
          "model_module": "@jupyter-widgets/base",
          "model_name": "LayoutModel",
          "model_module_version": "1.2.0",
          "state": {
            "_model_module": "@jupyter-widgets/base",
            "_model_module_version": "1.2.0",
            "_model_name": "LayoutModel",
            "_view_count": null,
            "_view_module": "@jupyter-widgets/base",
            "_view_module_version": "1.2.0",
            "_view_name": "LayoutView",
            "align_content": null,
            "align_items": null,
            "align_self": null,
            "border": null,
            "bottom": null,
            "display": null,
            "flex": null,
            "flex_flow": null,
            "grid_area": null,
            "grid_auto_columns": null,
            "grid_auto_flow": null,
            "grid_auto_rows": null,
            "grid_column": null,
            "grid_gap": null,
            "grid_row": null,
            "grid_template_areas": null,
            "grid_template_columns": null,
            "grid_template_rows": null,
            "height": null,
            "justify_content": null,
            "justify_items": null,
            "left": null,
            "margin": null,
            "max_height": null,
            "max_width": null,
            "min_height": null,
            "min_width": null,
            "object_fit": null,
            "object_position": null,
            "order": null,
            "overflow": null,
            "overflow_x": null,
            "overflow_y": null,
            "padding": null,
            "right": null,
            "top": null,
            "visibility": null,
            "width": null
          }
        },
        "9240fc69c24a42249ce353069d547fca": {
          "model_module": "@jupyter-widgets/controls",
          "model_name": "DescriptionStyleModel",
          "model_module_version": "1.5.0",
          "state": {
            "_model_module": "@jupyter-widgets/controls",
            "_model_module_version": "1.5.0",
            "_model_name": "DescriptionStyleModel",
            "_view_count": null,
            "_view_module": "@jupyter-widgets/base",
            "_view_module_version": "1.2.0",
            "_view_name": "StyleView",
            "description_width": ""
          }
        },
        "3683dd29604a472d8894feb116d7b474": {
          "model_module": "@jupyter-widgets/base",
          "model_name": "LayoutModel",
          "model_module_version": "1.2.0",
          "state": {
            "_model_module": "@jupyter-widgets/base",
            "_model_module_version": "1.2.0",
            "_model_name": "LayoutModel",
            "_view_count": null,
            "_view_module": "@jupyter-widgets/base",
            "_view_module_version": "1.2.0",
            "_view_name": "LayoutView",
            "align_content": null,
            "align_items": null,
            "align_self": null,
            "border": null,
            "bottom": null,
            "display": null,
            "flex": null,
            "flex_flow": null,
            "grid_area": null,
            "grid_auto_columns": null,
            "grid_auto_flow": null,
            "grid_auto_rows": null,
            "grid_column": null,
            "grid_gap": null,
            "grid_row": null,
            "grid_template_areas": null,
            "grid_template_columns": null,
            "grid_template_rows": null,
            "height": null,
            "justify_content": null,
            "justify_items": null,
            "left": null,
            "margin": null,
            "max_height": null,
            "max_width": null,
            "min_height": null,
            "min_width": null,
            "object_fit": null,
            "object_position": null,
            "order": null,
            "overflow": null,
            "overflow_x": null,
            "overflow_y": null,
            "padding": null,
            "right": null,
            "top": null,
            "visibility": null,
            "width": null
          }
        },
        "531b428ec74a4145922ba802f960c310": {
          "model_module": "@jupyter-widgets/controls",
          "model_name": "ProgressStyleModel",
          "model_module_version": "1.5.0",
          "state": {
            "_model_module": "@jupyter-widgets/controls",
            "_model_module_version": "1.5.0",
            "_model_name": "ProgressStyleModel",
            "_view_count": null,
            "_view_module": "@jupyter-widgets/base",
            "_view_module_version": "1.2.0",
            "_view_name": "StyleView",
            "bar_color": null,
            "description_width": ""
          }
        },
        "2bf0d1505ace4514b81eac10e478451a": {
          "model_module": "@jupyter-widgets/base",
          "model_name": "LayoutModel",
          "model_module_version": "1.2.0",
          "state": {
            "_model_module": "@jupyter-widgets/base",
            "_model_module_version": "1.2.0",
            "_model_name": "LayoutModel",
            "_view_count": null,
            "_view_module": "@jupyter-widgets/base",
            "_view_module_version": "1.2.0",
            "_view_name": "LayoutView",
            "align_content": null,
            "align_items": null,
            "align_self": null,
            "border": null,
            "bottom": null,
            "display": null,
            "flex": null,
            "flex_flow": null,
            "grid_area": null,
            "grid_auto_columns": null,
            "grid_auto_flow": null,
            "grid_auto_rows": null,
            "grid_column": null,
            "grid_gap": null,
            "grid_row": null,
            "grid_template_areas": null,
            "grid_template_columns": null,
            "grid_template_rows": null,
            "height": null,
            "justify_content": null,
            "justify_items": null,
            "left": null,
            "margin": null,
            "max_height": null,
            "max_width": null,
            "min_height": null,
            "min_width": null,
            "object_fit": null,
            "object_position": null,
            "order": null,
            "overflow": null,
            "overflow_x": null,
            "overflow_y": null,
            "padding": null,
            "right": null,
            "top": null,
            "visibility": null,
            "width": null
          }
        },
        "8d281523dab945c7a9c340493437b69c": {
          "model_module": "@jupyter-widgets/controls",
          "model_name": "DescriptionStyleModel",
          "model_module_version": "1.5.0",
          "state": {
            "_model_module": "@jupyter-widgets/controls",
            "_model_module_version": "1.5.0",
            "_model_name": "DescriptionStyleModel",
            "_view_count": null,
            "_view_module": "@jupyter-widgets/base",
            "_view_module_version": "1.2.0",
            "_view_name": "StyleView",
            "description_width": ""
          }
        },
        "05d742ee31774274b146656aa15e3ada": {
          "model_module": "@jupyter-widgets/controls",
          "model_name": "HBoxModel",
          "model_module_version": "1.5.0",
          "state": {
            "_dom_classes": [],
            "_model_module": "@jupyter-widgets/controls",
            "_model_module_version": "1.5.0",
            "_model_name": "HBoxModel",
            "_view_count": null,
            "_view_module": "@jupyter-widgets/controls",
            "_view_module_version": "1.5.0",
            "_view_name": "HBoxView",
            "box_style": "",
            "children": [
              "IPY_MODEL_20933c93d175486199497d4b76a418de",
              "IPY_MODEL_2b3a0564419749e7b61d58279ccd4418",
              "IPY_MODEL_6c45b87a5bc24cdbb5bc6751371ea43f"
            ],
            "layout": "IPY_MODEL_8d0a490586d54c628d5bf6ca6ec4825e"
          }
        },
        "20933c93d175486199497d4b76a418de": {
          "model_module": "@jupyter-widgets/controls",
          "model_name": "HTMLModel",
          "model_module_version": "1.5.0",
          "state": {
            "_dom_classes": [],
            "_model_module": "@jupyter-widgets/controls",
            "_model_module_version": "1.5.0",
            "_model_name": "HTMLModel",
            "_view_count": null,
            "_view_module": "@jupyter-widgets/controls",
            "_view_module_version": "1.5.0",
            "_view_name": "HTMLView",
            "description": "",
            "description_tooltip": null,
            "layout": "IPY_MODEL_a3468dfbd0fc410194d8311c47fc3f85",
            "placeholder": "​",
            "style": "IPY_MODEL_b0f2c92f3f2d4bb99539167da1adae44",
            "value": "config.json: 100%"
          }
        },
        "2b3a0564419749e7b61d58279ccd4418": {
          "model_module": "@jupyter-widgets/controls",
          "model_name": "FloatProgressModel",
          "model_module_version": "1.5.0",
          "state": {
            "_dom_classes": [],
            "_model_module": "@jupyter-widgets/controls",
            "_model_module_version": "1.5.0",
            "_model_name": "FloatProgressModel",
            "_view_count": null,
            "_view_module": "@jupyter-widgets/controls",
            "_view_module_version": "1.5.0",
            "_view_name": "ProgressView",
            "bar_style": "success",
            "description": "",
            "description_tooltip": null,
            "layout": "IPY_MODEL_e78cbc30886c4af9b4d4e76ff8bc210c",
            "max": 625,
            "min": 0,
            "orientation": "horizontal",
            "style": "IPY_MODEL_b136c58c9fd5499f9e33ff8ba48ea5ff",
            "value": 625
          }
        },
        "6c45b87a5bc24cdbb5bc6751371ea43f": {
          "model_module": "@jupyter-widgets/controls",
          "model_name": "HTMLModel",
          "model_module_version": "1.5.0",
          "state": {
            "_dom_classes": [],
            "_model_module": "@jupyter-widgets/controls",
            "_model_module_version": "1.5.0",
            "_model_name": "HTMLModel",
            "_view_count": null,
            "_view_module": "@jupyter-widgets/controls",
            "_view_module_version": "1.5.0",
            "_view_name": "HTMLView",
            "description": "",
            "description_tooltip": null,
            "layout": "IPY_MODEL_43dc5a24cd8541fdb46666fbd0859fb2",
            "placeholder": "​",
            "style": "IPY_MODEL_567877eab1414f55a027afe4eae5f2ff",
            "value": " 625/625 [00:00&lt;00:00, 44.0kB/s]"
          }
        },
        "8d0a490586d54c628d5bf6ca6ec4825e": {
          "model_module": "@jupyter-widgets/base",
          "model_name": "LayoutModel",
          "model_module_version": "1.2.0",
          "state": {
            "_model_module": "@jupyter-widgets/base",
            "_model_module_version": "1.2.0",
            "_model_name": "LayoutModel",
            "_view_count": null,
            "_view_module": "@jupyter-widgets/base",
            "_view_module_version": "1.2.0",
            "_view_name": "LayoutView",
            "align_content": null,
            "align_items": null,
            "align_self": null,
            "border": null,
            "bottom": null,
            "display": null,
            "flex": null,
            "flex_flow": null,
            "grid_area": null,
            "grid_auto_columns": null,
            "grid_auto_flow": null,
            "grid_auto_rows": null,
            "grid_column": null,
            "grid_gap": null,
            "grid_row": null,
            "grid_template_areas": null,
            "grid_template_columns": null,
            "grid_template_rows": null,
            "height": null,
            "justify_content": null,
            "justify_items": null,
            "left": null,
            "margin": null,
            "max_height": null,
            "max_width": null,
            "min_height": null,
            "min_width": null,
            "object_fit": null,
            "object_position": null,
            "order": null,
            "overflow": null,
            "overflow_x": null,
            "overflow_y": null,
            "padding": null,
            "right": null,
            "top": null,
            "visibility": null,
            "width": null
          }
        },
        "a3468dfbd0fc410194d8311c47fc3f85": {
          "model_module": "@jupyter-widgets/base",
          "model_name": "LayoutModel",
          "model_module_version": "1.2.0",
          "state": {
            "_model_module": "@jupyter-widgets/base",
            "_model_module_version": "1.2.0",
            "_model_name": "LayoutModel",
            "_view_count": null,
            "_view_module": "@jupyter-widgets/base",
            "_view_module_version": "1.2.0",
            "_view_name": "LayoutView",
            "align_content": null,
            "align_items": null,
            "align_self": null,
            "border": null,
            "bottom": null,
            "display": null,
            "flex": null,
            "flex_flow": null,
            "grid_area": null,
            "grid_auto_columns": null,
            "grid_auto_flow": null,
            "grid_auto_rows": null,
            "grid_column": null,
            "grid_gap": null,
            "grid_row": null,
            "grid_template_areas": null,
            "grid_template_columns": null,
            "grid_template_rows": null,
            "height": null,
            "justify_content": null,
            "justify_items": null,
            "left": null,
            "margin": null,
            "max_height": null,
            "max_width": null,
            "min_height": null,
            "min_width": null,
            "object_fit": null,
            "object_position": null,
            "order": null,
            "overflow": null,
            "overflow_x": null,
            "overflow_y": null,
            "padding": null,
            "right": null,
            "top": null,
            "visibility": null,
            "width": null
          }
        },
        "b0f2c92f3f2d4bb99539167da1adae44": {
          "model_module": "@jupyter-widgets/controls",
          "model_name": "DescriptionStyleModel",
          "model_module_version": "1.5.0",
          "state": {
            "_model_module": "@jupyter-widgets/controls",
            "_model_module_version": "1.5.0",
            "_model_name": "DescriptionStyleModel",
            "_view_count": null,
            "_view_module": "@jupyter-widgets/base",
            "_view_module_version": "1.2.0",
            "_view_name": "StyleView",
            "description_width": ""
          }
        },
        "e78cbc30886c4af9b4d4e76ff8bc210c": {
          "model_module": "@jupyter-widgets/base",
          "model_name": "LayoutModel",
          "model_module_version": "1.2.0",
          "state": {
            "_model_module": "@jupyter-widgets/base",
            "_model_module_version": "1.2.0",
            "_model_name": "LayoutModel",
            "_view_count": null,
            "_view_module": "@jupyter-widgets/base",
            "_view_module_version": "1.2.0",
            "_view_name": "LayoutView",
            "align_content": null,
            "align_items": null,
            "align_self": null,
            "border": null,
            "bottom": null,
            "display": null,
            "flex": null,
            "flex_flow": null,
            "grid_area": null,
            "grid_auto_columns": null,
            "grid_auto_flow": null,
            "grid_auto_rows": null,
            "grid_column": null,
            "grid_gap": null,
            "grid_row": null,
            "grid_template_areas": null,
            "grid_template_columns": null,
            "grid_template_rows": null,
            "height": null,
            "justify_content": null,
            "justify_items": null,
            "left": null,
            "margin": null,
            "max_height": null,
            "max_width": null,
            "min_height": null,
            "min_width": null,
            "object_fit": null,
            "object_position": null,
            "order": null,
            "overflow": null,
            "overflow_x": null,
            "overflow_y": null,
            "padding": null,
            "right": null,
            "top": null,
            "visibility": null,
            "width": null
          }
        },
        "b136c58c9fd5499f9e33ff8ba48ea5ff": {
          "model_module": "@jupyter-widgets/controls",
          "model_name": "ProgressStyleModel",
          "model_module_version": "1.5.0",
          "state": {
            "_model_module": "@jupyter-widgets/controls",
            "_model_module_version": "1.5.0",
            "_model_name": "ProgressStyleModel",
            "_view_count": null,
            "_view_module": "@jupyter-widgets/base",
            "_view_module_version": "1.2.0",
            "_view_name": "StyleView",
            "bar_color": null,
            "description_width": ""
          }
        },
        "43dc5a24cd8541fdb46666fbd0859fb2": {
          "model_module": "@jupyter-widgets/base",
          "model_name": "LayoutModel",
          "model_module_version": "1.2.0",
          "state": {
            "_model_module": "@jupyter-widgets/base",
            "_model_module_version": "1.2.0",
            "_model_name": "LayoutModel",
            "_view_count": null,
            "_view_module": "@jupyter-widgets/base",
            "_view_module_version": "1.2.0",
            "_view_name": "LayoutView",
            "align_content": null,
            "align_items": null,
            "align_self": null,
            "border": null,
            "bottom": null,
            "display": null,
            "flex": null,
            "flex_flow": null,
            "grid_area": null,
            "grid_auto_columns": null,
            "grid_auto_flow": null,
            "grid_auto_rows": null,
            "grid_column": null,
            "grid_gap": null,
            "grid_row": null,
            "grid_template_areas": null,
            "grid_template_columns": null,
            "grid_template_rows": null,
            "height": null,
            "justify_content": null,
            "justify_items": null,
            "left": null,
            "margin": null,
            "max_height": null,
            "max_width": null,
            "min_height": null,
            "min_width": null,
            "object_fit": null,
            "object_position": null,
            "order": null,
            "overflow": null,
            "overflow_x": null,
            "overflow_y": null,
            "padding": null,
            "right": null,
            "top": null,
            "visibility": null,
            "width": null
          }
        },
        "567877eab1414f55a027afe4eae5f2ff": {
          "model_module": "@jupyter-widgets/controls",
          "model_name": "DescriptionStyleModel",
          "model_module_version": "1.5.0",
          "state": {
            "_model_module": "@jupyter-widgets/controls",
            "_model_module_version": "1.5.0",
            "_model_name": "DescriptionStyleModel",
            "_view_count": null,
            "_view_module": "@jupyter-widgets/base",
            "_view_module_version": "1.2.0",
            "_view_name": "StyleView",
            "description_width": ""
          }
        },
        "e5b592ebe1634e6c91577013510d2149": {
          "model_module": "@jupyter-widgets/controls",
          "model_name": "HBoxModel",
          "model_module_version": "1.5.0",
          "state": {
            "_dom_classes": [],
            "_model_module": "@jupyter-widgets/controls",
            "_model_module_version": "1.5.0",
            "_model_name": "HBoxModel",
            "_view_count": null,
            "_view_module": "@jupyter-widgets/controls",
            "_view_module_version": "1.5.0",
            "_view_name": "HBoxView",
            "box_style": "",
            "children": [
              "IPY_MODEL_b2a81342ca5a4759aab33fc185df9ca8",
              "IPY_MODEL_b00d7a7bf21446c0ad4684d46e861e82",
              "IPY_MODEL_78d3934eb7dc457bb6a6eb6b8ba28592"
            ],
            "layout": "IPY_MODEL_7c3fbe7ace774126a2cae86933c7c402"
          }
        },
        "b2a81342ca5a4759aab33fc185df9ca8": {
          "model_module": "@jupyter-widgets/controls",
          "model_name": "HTMLModel",
          "model_module_version": "1.5.0",
          "state": {
            "_dom_classes": [],
            "_model_module": "@jupyter-widgets/controls",
            "_model_module_version": "1.5.0",
            "_model_name": "HTMLModel",
            "_view_count": null,
            "_view_module": "@jupyter-widgets/controls",
            "_view_module_version": "1.5.0",
            "_view_name": "HTMLView",
            "description": "",
            "description_tooltip": null,
            "layout": "IPY_MODEL_73fb0e73f8874a2c8c2ed426c35b9e52",
            "placeholder": "​",
            "style": "IPY_MODEL_a5a7375b6080465cb48d4909f29cccc9",
            "value": "model.safetensors: 100%"
          }
        },
        "b00d7a7bf21446c0ad4684d46e861e82": {
          "model_module": "@jupyter-widgets/controls",
          "model_name": "FloatProgressModel",
          "model_module_version": "1.5.0",
          "state": {
            "_dom_classes": [],
            "_model_module": "@jupyter-widgets/controls",
            "_model_module_version": "1.5.0",
            "_model_name": "FloatProgressModel",
            "_view_count": null,
            "_view_module": "@jupyter-widgets/controls",
            "_view_module_version": "1.5.0",
            "_view_name": "ProgressView",
            "bar_style": "success",
            "description": "",
            "description_tooltip": null,
            "layout": "IPY_MODEL_e40fdbfb882e41549178cf4f8bd0bbb2",
            "max": 714290682,
            "min": 0,
            "orientation": "horizontal",
            "style": "IPY_MODEL_615d238c37364395b692d4d1a9fb8345",
            "value": 714290682
          }
        },
        "78d3934eb7dc457bb6a6eb6b8ba28592": {
          "model_module": "@jupyter-widgets/controls",
          "model_name": "HTMLModel",
          "model_module_version": "1.5.0",
          "state": {
            "_dom_classes": [],
            "_model_module": "@jupyter-widgets/controls",
            "_model_module_version": "1.5.0",
            "_model_name": "HTMLModel",
            "_view_count": null,
            "_view_module": "@jupyter-widgets/controls",
            "_view_module_version": "1.5.0",
            "_view_name": "HTMLView",
            "description": "",
            "description_tooltip": null,
            "layout": "IPY_MODEL_ef9e9e89f94640a691be214ed6f8b121",
            "placeholder": "​",
            "style": "IPY_MODEL_27dcbfaa303c4a6dbc5626cbc5a80a8f",
            "value": " 714M/714M [00:03&lt;00:00, 205MB/s]"
          }
        },
        "7c3fbe7ace774126a2cae86933c7c402": {
          "model_module": "@jupyter-widgets/base",
          "model_name": "LayoutModel",
          "model_module_version": "1.2.0",
          "state": {
            "_model_module": "@jupyter-widgets/base",
            "_model_module_version": "1.2.0",
            "_model_name": "LayoutModel",
            "_view_count": null,
            "_view_module": "@jupyter-widgets/base",
            "_view_module_version": "1.2.0",
            "_view_name": "LayoutView",
            "align_content": null,
            "align_items": null,
            "align_self": null,
            "border": null,
            "bottom": null,
            "display": null,
            "flex": null,
            "flex_flow": null,
            "grid_area": null,
            "grid_auto_columns": null,
            "grid_auto_flow": null,
            "grid_auto_rows": null,
            "grid_column": null,
            "grid_gap": null,
            "grid_row": null,
            "grid_template_areas": null,
            "grid_template_columns": null,
            "grid_template_rows": null,
            "height": null,
            "justify_content": null,
            "justify_items": null,
            "left": null,
            "margin": null,
            "max_height": null,
            "max_width": null,
            "min_height": null,
            "min_width": null,
            "object_fit": null,
            "object_position": null,
            "order": null,
            "overflow": null,
            "overflow_x": null,
            "overflow_y": null,
            "padding": null,
            "right": null,
            "top": null,
            "visibility": null,
            "width": null
          }
        },
        "73fb0e73f8874a2c8c2ed426c35b9e52": {
          "model_module": "@jupyter-widgets/base",
          "model_name": "LayoutModel",
          "model_module_version": "1.2.0",
          "state": {
            "_model_module": "@jupyter-widgets/base",
            "_model_module_version": "1.2.0",
            "_model_name": "LayoutModel",
            "_view_count": null,
            "_view_module": "@jupyter-widgets/base",
            "_view_module_version": "1.2.0",
            "_view_name": "LayoutView",
            "align_content": null,
            "align_items": null,
            "align_self": null,
            "border": null,
            "bottom": null,
            "display": null,
            "flex": null,
            "flex_flow": null,
            "grid_area": null,
            "grid_auto_columns": null,
            "grid_auto_flow": null,
            "grid_auto_rows": null,
            "grid_column": null,
            "grid_gap": null,
            "grid_row": null,
            "grid_template_areas": null,
            "grid_template_columns": null,
            "grid_template_rows": null,
            "height": null,
            "justify_content": null,
            "justify_items": null,
            "left": null,
            "margin": null,
            "max_height": null,
            "max_width": null,
            "min_height": null,
            "min_width": null,
            "object_fit": null,
            "object_position": null,
            "order": null,
            "overflow": null,
            "overflow_x": null,
            "overflow_y": null,
            "padding": null,
            "right": null,
            "top": null,
            "visibility": null,
            "width": null
          }
        },
        "a5a7375b6080465cb48d4909f29cccc9": {
          "model_module": "@jupyter-widgets/controls",
          "model_name": "DescriptionStyleModel",
          "model_module_version": "1.5.0",
          "state": {
            "_model_module": "@jupyter-widgets/controls",
            "_model_module_version": "1.5.0",
            "_model_name": "DescriptionStyleModel",
            "_view_count": null,
            "_view_module": "@jupyter-widgets/base",
            "_view_module_version": "1.2.0",
            "_view_name": "StyleView",
            "description_width": ""
          }
        },
        "e40fdbfb882e41549178cf4f8bd0bbb2": {
          "model_module": "@jupyter-widgets/base",
          "model_name": "LayoutModel",
          "model_module_version": "1.2.0",
          "state": {
            "_model_module": "@jupyter-widgets/base",
            "_model_module_version": "1.2.0",
            "_model_name": "LayoutModel",
            "_view_count": null,
            "_view_module": "@jupyter-widgets/base",
            "_view_module_version": "1.2.0",
            "_view_name": "LayoutView",
            "align_content": null,
            "align_items": null,
            "align_self": null,
            "border": null,
            "bottom": null,
            "display": null,
            "flex": null,
            "flex_flow": null,
            "grid_area": null,
            "grid_auto_columns": null,
            "grid_auto_flow": null,
            "grid_auto_rows": null,
            "grid_column": null,
            "grid_gap": null,
            "grid_row": null,
            "grid_template_areas": null,
            "grid_template_columns": null,
            "grid_template_rows": null,
            "height": null,
            "justify_content": null,
            "justify_items": null,
            "left": null,
            "margin": null,
            "max_height": null,
            "max_width": null,
            "min_height": null,
            "min_width": null,
            "object_fit": null,
            "object_position": null,
            "order": null,
            "overflow": null,
            "overflow_x": null,
            "overflow_y": null,
            "padding": null,
            "right": null,
            "top": null,
            "visibility": null,
            "width": null
          }
        },
        "615d238c37364395b692d4d1a9fb8345": {
          "model_module": "@jupyter-widgets/controls",
          "model_name": "ProgressStyleModel",
          "model_module_version": "1.5.0",
          "state": {
            "_model_module": "@jupyter-widgets/controls",
            "_model_module_version": "1.5.0",
            "_model_name": "ProgressStyleModel",
            "_view_count": null,
            "_view_module": "@jupyter-widgets/base",
            "_view_module_version": "1.2.0",
            "_view_name": "StyleView",
            "bar_color": null,
            "description_width": ""
          }
        },
        "ef9e9e89f94640a691be214ed6f8b121": {
          "model_module": "@jupyter-widgets/base",
          "model_name": "LayoutModel",
          "model_module_version": "1.2.0",
          "state": {
            "_model_module": "@jupyter-widgets/base",
            "_model_module_version": "1.2.0",
            "_model_name": "LayoutModel",
            "_view_count": null,
            "_view_module": "@jupyter-widgets/base",
            "_view_module_version": "1.2.0",
            "_view_name": "LayoutView",
            "align_content": null,
            "align_items": null,
            "align_self": null,
            "border": null,
            "bottom": null,
            "display": null,
            "flex": null,
            "flex_flow": null,
            "grid_area": null,
            "grid_auto_columns": null,
            "grid_auto_flow": null,
            "grid_auto_rows": null,
            "grid_column": null,
            "grid_gap": null,
            "grid_row": null,
            "grid_template_areas": null,
            "grid_template_columns": null,
            "grid_template_rows": null,
            "height": null,
            "justify_content": null,
            "justify_items": null,
            "left": null,
            "margin": null,
            "max_height": null,
            "max_width": null,
            "min_height": null,
            "min_width": null,
            "object_fit": null,
            "object_position": null,
            "order": null,
            "overflow": null,
            "overflow_x": null,
            "overflow_y": null,
            "padding": null,
            "right": null,
            "top": null,
            "visibility": null,
            "width": null
          }
        },
        "27dcbfaa303c4a6dbc5626cbc5a80a8f": {
          "model_module": "@jupyter-widgets/controls",
          "model_name": "DescriptionStyleModel",
          "model_module_version": "1.5.0",
          "state": {
            "_model_module": "@jupyter-widgets/controls",
            "_model_module_version": "1.5.0",
            "_model_name": "DescriptionStyleModel",
            "_view_count": null,
            "_view_module": "@jupyter-widgets/base",
            "_view_module_version": "1.2.0",
            "_view_name": "StyleView",
            "description_width": ""
          }
        }
      }
    }
  },
  "cells": [
    {
      "cell_type": "markdown",
      "source": [
        "# Hate Speech Detection"
      ],
      "metadata": {
        "id": "JL7Skn3C5rh9"
      }
    },
    {
      "cell_type": "markdown",
      "source": [
        "## Dataset\n",
        "Our Dataset Has **6 classes**. **Political, Geopolitical, Gender, Religious, Personal, Sports**. These Dataset was created by merging some existing Open source Bengali Hate Speech Datsets. Initialy we have merge 5 Dataset. There was almost 35% duplicate value there. We drop the duplicate value. Remaining was 35k. After proper labeling, we also collected data from Facebook, labeled them, and added them. Finally, unique data is **29.3k**.\n",
        "\n"
      ],
      "metadata": {
        "id": "BIZnAhlY514X"
      }
    },
    {
      "cell_type": "markdown",
      "source": [
        "For loading data"
      ],
      "metadata": {
        "id": "GzXhbo9NLpR6"
      }
    },
    {
      "cell_type": "code",
      "source": [
        "!pip install requests"
      ],
      "metadata": {
        "id": "eJpCYZlQA6fv"
      },
      "execution_count": null,
      "outputs": []
    },
    {
      "cell_type": "markdown",
      "source": [
        "We upload our dataset to Github to load it. Run this cell for read data"
      ],
      "metadata": {
        "id": "_BYcvntZKdVQ"
      }
    },
    {
      "cell_type": "code",
      "execution_count": null,
      "metadata": {
        "id": "UW48muqt2wYN"
      },
      "outputs": [],
      "source": [
        "import pandas as pd\n",
        "import io\n",
        "import requests\n",
        "# df = pd.read_csv(\"https://github.com/Mahbubur-Rahman-15/Hate-Speech-Dataset/blob/main/H_Data_processed.csv\")\n",
        "# url = \"https://github.com/Mahbubur-Rahman-15/Hate-Speech-Dataset/blob/main/H_Data_processed.csv\"\n",
        "# Update the URL to the raw CSV data\n",
        "url = \"https://raw.githubusercontent.com/Mahbubur-Rahman-15/Hate-Speech-Dataset/main/H_Data_processed.csv\"\n",
        "response = requests.get(url)\n",
        "response.raise_for_status()  # Raise an exception if the request fails\n",
        "\n",
        "# Read the CSV content into a Pandas DataFrame\n",
        "df = pd.read_csv(io.StringIO(response.text))"
      ]
    },
    {
      "cell_type": "markdown",
      "source": [
        "Statistics of our dataset."
      ],
      "metadata": {
        "id": "K9B6NeUaL0VN"
      }
    },
    {
      "cell_type": "code",
      "source": [
        "import pandas as pd\n",
        "import io\n",
        "import requests\n",
        "import matplotlib.pyplot as plt\n",
        "import seaborn as sns\n",
        "\n",
        "# Visualize class distribution\n",
        "plt.figure(figsize=(10, 6))\n",
        "sns.countplot(x='label', data=df) # Assuming 'label' column holds the class labels\n",
        "plt.title('Distribution of Hate Speech Categories')\n",
        "plt.xlabel('Hate Speech Category')\n",
        "plt.ylabel('Number of Samples')\n",
        "plt.xticks(rotation=45, ha='right')  # Rotate x-axis labels for better readability\n",
        "\n",
        "# Add integer labels to the bars\n",
        "for p in plt.gca().patches:\n",
        "    plt.gca().annotate(f'{int(p.get_height())}', (p.get_x() + p.get_width() / 2., p.get_height()),\n",
        "                       ha='center', va='center', fontsize=10, color='black', xytext=(0, 5),\n",
        "                       textcoords='offset points')\n",
        "\n",
        "plt.show()"
      ],
      "metadata": {
        "colab": {
          "base_uri": "https://localhost:8080/",
          "height": 618
        },
        "id": "A_fTC-ySqXql",
        "outputId": "17f096c5-a826-43b0-f909-7169daf5635c"
      },
      "execution_count": null,
      "outputs": [
        {
          "output_type": "display_data",
          "data": {
            "text/plain": [
              "<Figure size 1000x600 with 1 Axes>"
            ],
            "image/png": "[encoded data removed]"
          },
          "metadata": {}
        }
      ]
    },
    {
      "cell_type": "code",
      "source": [
        "print(df.describe())\n",
        "print(df.info())"
      ],
      "metadata": {
        "colab": {
          "base_uri": "https://localhost:8080/"
        },
        "id": "JKUF43kY3Dwn",
        "outputId": "271ff98a-7ba4-453e-f6f5-0cf3f78c686c"
      },
      "execution_count": null,
      "outputs": [
        {
          "output_type": "stream",
          "name": "stdout",
          "text": [
            "                            text     label cleaned_text\n",
            "count                      30565     30565        30565\n",
            "unique                     30565         6        29338\n",
            "top     তোদের মতো দালাল তো আর না  Personal         মাগি\n",
            "freq                           1      6859           10\n",
            "<class 'pandas.core.frame.DataFrame'>\n",
            "Index: 30565 entries, 0 to 31242\n",
            "Data columns (total 3 columns):\n",
            " #   Column        Non-Null Count  Dtype \n",
            "---  ------        --------------  ----- \n",
            " 0   text          30565 non-null  object\n",
            " 1   label         30565 non-null  object\n",
            " 2   cleaned_text  30565 non-null  object\n",
            "dtypes: object(3)\n",
            "memory usage: 955.2+ KB\n",
            "None\n"
          ]
        }
      ]
    },
    {
      "cell_type": "markdown",
      "source": [
        "Label wise data count"
      ],
      "metadata": {
        "id": "iWq2urALMFN0"
      }
    },
    {
      "cell_type": "code",
      "source": [
        "df['label'].value_counts()"
      ],
      "metadata": {
        "colab": {
          "base_uri": "https://localhost:8080/",
          "height": 304
        },
        "id": "QcfXLmppW0JP",
        "outputId": "e95f768e-9bcc-46b6-b19f-c02a4621160e",
        "collapsed": true
      },
      "execution_count": null,
      "outputs": [
        {
          "output_type": "execute_result",
          "data": {
            "text/plain": [
              "label\n",
              "Personal        7000\n",
              "gender          6793\n",
              "Religious       6468\n",
              "Political       4790\n",
              "Geopolitical    4330\n",
              "sports          1865\n",
              "Name: count, dtype: int64"
            ],
            "text/html": [
              "<div>\n",
              "<style scoped>\n",
              "    .dataframe tbody tr th:only-of-type {\n",
              "        vertical-align: middle;\n",
              "    }\n",
              "\n",
              "    .dataframe tbody tr th {\n",
              "        vertical-align: top;\n",
              "    }\n",
              "\n",
              "    .dataframe thead th {\n",
              "        text-align: right;\n",
              "    }\n",
              "</style>\n",
              "<table border=\"1\" class=\"dataframe\">\n",
              "  <thead>\n",
              "    <tr style=\"text-align: right;\">\n",
              "      <th></th>\n",
              "      <th>count</th>\n",
              "    </tr>\n",
              "    <tr>\n",
              "      <th>label</th>\n",
              "      <th></th>\n",
              "    </tr>\n",
              "  </thead>\n",
              "  <tbody>\n",
              "    <tr>\n",
              "      <th>Personal</th>\n",
              "      <td>7000</td>\n",
              "    </tr>\n",
              "    <tr>\n",
              "      <th>gender</th>\n",
              "      <td>6793</td>\n",
              "    </tr>\n",
              "    <tr>\n",
              "      <th>Religious</th>\n",
              "      <td>6468</td>\n",
              "    </tr>\n",
              "    <tr>\n",
              "      <th>Political</th>\n",
              "      <td>4790</td>\n",
              "    </tr>\n",
              "    <tr>\n",
              "      <th>Geopolitical</th>\n",
              "      <td>4330</td>\n",
              "    </tr>\n",
              "    <tr>\n",
              "      <th>sports</th>\n",
              "      <td>1865</td>\n",
              "    </tr>\n",
              "  </tbody>\n",
              "</table>\n",
              "</div><br><label><b>dtype:</b> int64</label>"
            ]
          },
          "metadata": {},
          "execution_count": 15
        }
      ]
    },
    {
      "cell_type": "markdown",
      "source": [
        "Drop duplicate data."
      ],
      "metadata": {
        "id": "XsD-buy_MLxG"
      }
    },
    {
      "cell_type": "code",
      "source": [
        "# Check for duplicates in the 'text' column\n",
        "duplicates = df[df.duplicated(subset=['text'], keep=False)]\n",
        "\n",
        "if not duplicates.empty:\n",
        "  print(\"Duplicate rows found in 'text' column:\")\n",
        "  print(duplicates)\n",
        "\n",
        "  # Drop duplicate rows based on the 'text' column, keeping the first occurrence\n",
        "  df = df.drop_duplicates(subset=['text'], keep='first')\n",
        "  print(\"\\nDuplicate rows dropped. New DataFrame:\")\n",
        "  print(df.head()) # Display the first few rows of the updated DataFrame\n",
        "else:\n",
        "  print(\"No duplicate rows found in 'text' column.\")"
      ],
      "metadata": {
        "colab": {
          "base_uri": "https://localhost:8080/"
        },
        "id": "m8F-qHK_WvAw",
        "outputId": "396c7cb2-3d2b-4cdd-92cf-0d1ada567004",
        "collapsed": true
      },
      "execution_count": null,
      "outputs": [
        {
          "output_type": "stream",
          "name": "stdout",
          "text": [
            "Duplicate rows found in 'text' column:\n",
            "                                                    text         label  \\\n",
            "68     পাপিয়াসাবরীনামিথিলাসকল বারোভাতারী পক্ষ থেকে অভ...      Personal   \n",
            "163    ভাই তোমাকে বলছি তুমি রানু দিয়ে নিয়ে কোন ভিডি...      Personal   \n",
            "215    মাগি আগের থেকেই বাধাই রাখছে আর কই পরের মাসেই ব...      Personal   \n",
            "236    কি যে ওর কন্ঠ সুর শুনলে পাড়েই বমি আসে হিমেশের...      Personal   \n",
            "241             সুচনার প্রথমেই সুচি কে ফাসিতে ঝুলানো হউক      Personal   \n",
            "...                                                  ...           ...   \n",
            "31236     জনের হোগা মারছে কৃশ্ন  জনের নাম কি তার মনে আছে     Religious   \n",
            "31241  অক্টোবর  আওয়ামী হায়েনাদের নৃশংসতায় কেঁদেছে মান...  Geopolitical   \n",
            "31243  মে রোববার মধ্যরাতে গুলিবিদ্ধ অবস্থায় পড়ে আছে দ...     Religious   \n",
            "31244          দেখিনি আজ আওয়ামীলীগের শাসনামলে  অনুভব করি  Geopolitical   \n",
            "31245  সালে আমরা স্বাধীনতার জন্যে যুদ্ধ করলেও ভারত কর...  Geopolitical   \n",
            "\n",
            "                                            cleaned_text  text_length  \n",
            "68       পাপিয়াসাবরীনামিথিলাসকল বারোভাতারী পক্ষ অভিনন্দন           52  \n",
            "163    ভাই তোমাকে বলছি রানু ভিডিও বানিয়ে অন্য ভিডিও ...          147  \n",
            "215      মাগি আগের থেকেই বাধাই রাখছে কই পরের মাসেই বাধছে           50  \n",
            "236    ওর কন্ঠ সুর শুনলে পাড়েই বমি আসে হিমেশের সালমা...          110  \n",
            "241                সুচনার প্রথমেই সুচি ফাসিতে ঝুলানো হউক           40  \n",
            "...                                                  ...          ...  \n",
            "31236             জনের হোগা মারছে কৃশ্ন জনের নাম মনে আছে           46  \n",
            "31241  অক্টোবর আওয়ামী হায়েনাদের নৃশংসতায় কেঁদেছে মানু...           60  \n",
            "31243  মে রোববার মধ্যরাতে গুলিবিদ্ধ অবস্থায় পড়ে আছে দ...           61  \n",
            "31244               দেখিনি আজ আওয়ামীলীগের শাসনামলে অনুভব           41  \n",
            "31245  সালে স্বাধীনতার জন্যে যুদ্ধ করলেও ভারত করেছিল ...          100  \n",
            "\n",
            "[1322 rows x 4 columns]\n",
            "\n",
            "Duplicate rows dropped. New DataFrame:\n",
            "                                                text     label  \\\n",
            "0                           তোদের মতো দালাল তো আর না  Personal   \n",
            "1                                সালা হারামির বাচ্চা  Personal   \n",
            "2                       ওরে পুটকি দিয়ে সিদ্ধ ডিম দেন  Personal   \n",
            "3                                তুই আমার হেডার নায়ক  Personal   \n",
            "4  আমি বুঝিনা এত ভালো একটা এ্যাকটর কিভাবে এমন অশ্...  Personal   \n",
            "\n",
            "                                        cleaned_text  text_length  \n",
            "0                                        তোদের দালাল           24  \n",
            "1                                সালা হারামির বাচ্চা           19  \n",
            "2                       ওরে পুটকি দিয়ে সিদ্ধ ডিম দেন           28  \n",
            "3                                     তুই হেডার নায়ক           19  \n",
            "4  বুঝিনা এত এ্যাকটর এমন অশ্লীল পিকচার আপলোড মানু...          191  \n"
          ]
        }
      ]
    },
    {
      "cell_type": "markdown",
      "source": [
        "Label-wise data count after dropping duplicate text. We can see that our dataset is imbalanced. Which may lead to a decrease in performance."
      ],
      "metadata": {
        "id": "xc_VWMKjb2xD"
      }
    },
    {
      "cell_type": "code",
      "source": [
        "df['label'].value_counts()"
      ],
      "metadata": {
        "colab": {
          "base_uri": "https://localhost:8080/",
          "height": 304
        },
        "id": "hFNOv2ECXRj-",
        "outputId": "4c03fb1e-eda7-4efa-d5e0-f09c57f57dc6",
        "collapsed": true
      },
      "execution_count": null,
      "outputs": [
        {
          "output_type": "execute_result",
          "data": {
            "text/plain": [
              "label\n",
              "Personal        6859\n",
              "gender          6757\n",
              "Religious       6336\n",
              "Political       4663\n",
              "Geopolitical    4087\n",
              "sports          1863\n",
              "Name: count, dtype: int64"
            ],
            "text/html": [
              "<div>\n",
              "<style scoped>\n",
              "    .dataframe tbody tr th:only-of-type {\n",
              "        vertical-align: middle;\n",
              "    }\n",
              "\n",
              "    .dataframe tbody tr th {\n",
              "        vertical-align: top;\n",
              "    }\n",
              "\n",
              "    .dataframe thead th {\n",
              "        text-align: right;\n",
              "    }\n",
              "</style>\n",
              "<table border=\"1\" class=\"dataframe\">\n",
              "  <thead>\n",
              "    <tr style=\"text-align: right;\">\n",
              "      <th></th>\n",
              "      <th>count</th>\n",
              "    </tr>\n",
              "    <tr>\n",
              "      <th>label</th>\n",
              "      <th></th>\n",
              "    </tr>\n",
              "  </thead>\n",
              "  <tbody>\n",
              "    <tr>\n",
              "      <th>Personal</th>\n",
              "      <td>6859</td>\n",
              "    </tr>\n",
              "    <tr>\n",
              "      <th>gender</th>\n",
              "      <td>6757</td>\n",
              "    </tr>\n",
              "    <tr>\n",
              "      <th>Religious</th>\n",
              "      <td>6336</td>\n",
              "    </tr>\n",
              "    <tr>\n",
              "      <th>Political</th>\n",
              "      <td>4663</td>\n",
              "    </tr>\n",
              "    <tr>\n",
              "      <th>Geopolitical</th>\n",
              "      <td>4087</td>\n",
              "    </tr>\n",
              "    <tr>\n",
              "      <th>sports</th>\n",
              "      <td>1863</td>\n",
              "    </tr>\n",
              "  </tbody>\n",
              "</table>\n",
              "</div><br><label><b>dtype:</b> int64</label>"
            ]
          },
          "metadata": {},
          "execution_count": 7
        }
      ]
    },
    {
      "cell_type": "markdown",
      "source": [
        "5 Sample from the dataset. We have remove some stop words while creating the dataset and store them in separate column name cleaned_text"
      ],
      "metadata": {
        "id": "TTGOCQu6cMB2"
      }
    },
    {
      "cell_type": "code",
      "source": [
        "df.sample(5)"
      ],
      "metadata": {
        "colab": {
          "base_uri": "https://localhost:8080/",
          "height": 206
        },
        "id": "rVQMV9KPkR_q",
        "outputId": "861cdeee-e95a-416e-9e49-fe0d56e6aa36",
        "collapsed": true
      },
      "execution_count": null,
      "outputs": [
        {
          "output_type": "execute_result",
          "data": {
            "text/plain": [
              "                                                    text         label  \\\n",
              "2796   ওর মত জানোয়ারের বেচে থাকার কোনো অধিকারই নাই।ওক...      Personal   \n",
              "2931   বিচারক নির্বাচন করার আগে তাদের দক্ষতা আচরন দুর...      Personal   \n",
              "27037                               তুই একটা খানকির পোলা        gender   \n",
              "9557   এখন দেখবেন বাংলাদেশের চেয়ে বেশি মুক্তি যোদ্দা ...  Geopolitical   \n",
              "19337  এই মাদারি একটা হিজড়া আগামীবার সে সেন্টার পয়ে...     Political   \n",
              "\n",
              "                                            cleaned_text  \n",
              "2796   ওর মত জানোয়ারের বেচে থাকার কোনো অধিকারই নাই।ওক...  \n",
              "2931   বিচারক নির্বাচন আগে দক্ষতা আচরন দুরদর্শীতা মার...  \n",
              "27037                                    তুই খানকির পোলা  \n",
              "9557   এখন দেখবেন বাংলাদেশের চেয়ে বেশি মুক্তি যোদ্দা ...  \n",
              "19337  মাদারি হিজড়া আগামীবার সেন্টার পয়েন্টে স্ট্রো...  "
            ],
            "text/html": [
              "\n",
              "  <div id=\"df-7a9050fb-adbe-4237-a368-8afa03af837a\" class=\"colab-df-container\">\n",
              "    <div>\n",
              "<style scoped>\n",
              "    .dataframe tbody tr th:only-of-type {\n",
              "        vertical-align: middle;\n",
              "    }\n",
              "\n",
              "    .dataframe tbody tr th {\n",
              "        vertical-align: top;\n",
              "    }\n",
              "\n",
              "    .dataframe thead th {\n",
              "        text-align: right;\n",
              "    }\n",
              "</style>\n",
              "<table border=\"1\" class=\"dataframe\">\n",
              "  <thead>\n",
              "    <tr style=\"text-align: right;\">\n",
              "      <th></th>\n",
              "      <th>text</th>\n",
              "      <th>label</th>\n",
              "      <th>cleaned_text</th>\n",
              "    </tr>\n",
              "  </thead>\n",
              "  <tbody>\n",
              "    <tr>\n",
              "      <th>2796</th>\n",
              "      <td>ওর মত জানোয়ারের বেচে থাকার কোনো অধিকারই নাই।ওক...</td>\n",
              "      <td>Personal</td>\n",
              "      <td>ওর মত জানোয়ারের বেচে থাকার কোনো অধিকারই নাই।ওক...</td>\n",
              "    </tr>\n",
              "    <tr>\n",
              "      <th>2931</th>\n",
              "      <td>বিচারক নির্বাচন করার আগে তাদের দক্ষতা আচরন দুর...</td>\n",
              "      <td>Personal</td>\n",
              "      <td>বিচারক নির্বাচন আগে দক্ষতা আচরন দুরদর্শীতা মার...</td>\n",
              "    </tr>\n",
              "    <tr>\n",
              "      <th>27037</th>\n",
              "      <td>তুই একটা খানকির পোলা</td>\n",
              "      <td>gender</td>\n",
              "      <td>তুই খানকির পোলা</td>\n",
              "    </tr>\n",
              "    <tr>\n",
              "      <th>9557</th>\n",
              "      <td>এখন দেখবেন বাংলাদেশের চেয়ে বেশি মুক্তি যোদ্দা ...</td>\n",
              "      <td>Geopolitical</td>\n",
              "      <td>এখন দেখবেন বাংলাদেশের চেয়ে বেশি মুক্তি যোদ্দা ...</td>\n",
              "    </tr>\n",
              "    <tr>\n",
              "      <th>19337</th>\n",
              "      <td>এই মাদারি একটা হিজড়া আগামীবার সে সেন্টার পয়ে...</td>\n",
              "      <td>Political</td>\n",
              "      <td>মাদারি হিজড়া আগামীবার সেন্টার পয়েন্টে স্ট্রো...</td>\n",
              "    </tr>\n",
              "  </tbody>\n",
              "</table>\n",
              "</div>\n",
              "    <div class=\"colab-df-buttons\">\n",
              "\n",
              "  <div class=\"colab-df-container\">\n",
              "    <button class=\"colab-df-convert\" onclick=\"convertToInteractive('df-7a9050fb-adbe-4237-a368-8afa03af837a')\"\n",
              "            title=\"Convert this dataframe to an interactive table.\"\n",
              "            style=\"display:none;\">\n",
              "\n",
              "  <svg xmlns=\"http://www.w3.org/2000/svg\" height=\"24px\" viewBox=\"0 -960 960 960\">\n",
              "    <path d=\"M120-120v-720h720v720H120Zm60-500h600v-160H180v160Zm220 220h160v-160H400v160Zm0 220h160v-160H400v160ZM180-400h160v-160H180v160Zm440 0h160v-160H620v160ZM180-180h160v-160H180v160Zm440 0h160v-160H620v160Z\"/>\n",
              "  </svg>\n",
              "    </button>\n",
              "\n",
              "  <style>\n",
              "    .colab-df-container {\n",
              "      display:flex;\n",
              "      gap: 12px;\n",
              "    }\n",
              "\n",
              "    .colab-df-convert {\n",
              "      background-color: #E8F0FE;\n",
              "      border: none;\n",
              "      border-radius: 50%;\n",
              "      cursor: pointer;\n",
              "      display: none;\n",
              "      fill: #1967D2;\n",
              "      height: 32px;\n",
              "      padding: 0 0 0 0;\n",
              "      width: 32px;\n",
              "    }\n",
              "\n",
              "    .colab-df-convert:hover {\n",
              "      background-color: #E2EBFA;\n",
              "      box-shadow: 0px 1px 2px rgba(60, 64, 67, 0.3), 0px 1px 3px 1px rgba(60, 64, 67, 0.15);\n",
              "      fill: #174EA6;\n",
              "    }\n",
              "\n",
              "    .colab-df-buttons div {\n",
              "      margin-bottom: 4px;\n",
              "    }\n",
              "\n",
              "    [theme=dark] .colab-df-convert {\n",
              "      background-color: #3B4455;\n",
              "      fill: #D2E3FC;\n",
              "    }\n",
              "\n",
              "    [theme=dark] .colab-df-convert:hover {\n",
              "      background-color: #434B5C;\n",
              "      box-shadow: 0px 1px 3px 1px rgba(0, 0, 0, 0.15);\n",
              "      filter: drop-shadow(0px 1px 2px rgba(0, 0, 0, 0.3));\n",
              "      fill: #FFFFFF;\n",
              "    }\n",
              "  </style>\n",
              "\n",
              "    <script>\n",
              "      const buttonEl =\n",
              "        document.querySelector('#df-7a9050fb-adbe-4237-a368-8afa03af837a button.colab-df-convert');\n",
              "      buttonEl.style.display =\n",
              "        google.colab.kernel.accessAllowed ? 'block' : 'none';\n",
              "\n",
              "      async function convertToInteractive(key) {\n",
              "        const element = document.querySelector('#df-7a9050fb-adbe-4237-a368-8afa03af837a');\n",
              "        const dataTable =\n",
              "          await google.colab.kernel.invokeFunction('convertToInteractive',\n",
              "                                                    [key], {});\n",
              "        if (!dataTable) return;\n",
              "\n",
              "        const docLinkHtml = 'Like what you see? Visit the ' +\n",
              "          '<a target=\"_blank\" href=https://colab.research.google.com/notebooks/data_table.ipynb>data table notebook</a>'\n",
              "          + ' to learn more about interactive tables.';\n",
              "        element.innerHTML = '';\n",
              "        dataTable['output_type'] = 'display_data';\n",
              "        await google.colab.output.renderOutput(dataTable, element);\n",
              "        const docLink = document.createElement('div');\n",
              "        docLink.innerHTML = docLinkHtml;\n",
              "        element.appendChild(docLink);\n",
              "      }\n",
              "    </script>\n",
              "  </div>\n",
              "\n",
              "\n",
              "<div id=\"df-4c1e38e8-64c8-46ff-b79c-b0ed08d72be0\">\n",
              "  <button class=\"colab-df-quickchart\" onclick=\"quickchart('df-4c1e38e8-64c8-46ff-b79c-b0ed08d72be0')\"\n",
              "            title=\"Suggest charts\"\n",
              "            style=\"display:none;\">\n",
              "\n",
              "<svg xmlns=\"http://www.w3.org/2000/svg\" height=\"24px\"viewBox=\"0 0 24 24\"\n",
              "     width=\"24px\">\n",
              "    <g>\n",
              "        <path d=\"M19 3H5c-1.1 0-2 .9-2 2v14c0 1.1.9 2 2 2h14c1.1 0 2-.9 2-2V5c0-1.1-.9-2-2-2zM9 17H7v-7h2v7zm4 0h-2V7h2v10zm4 0h-2v-4h2v4z\"/>\n",
              "    </g>\n",
              "</svg>\n",
              "  </button>\n",
              "\n",
              "<style>\n",
              "  .colab-df-quickchart {\n",
              "      --bg-color: #E8F0FE;\n",
              "      --fill-color: #1967D2;\n",
              "      --hover-bg-color: #E2EBFA;\n",
              "      --hover-fill-color: #174EA6;\n",
              "      --disabled-fill-color: #AAA;\n",
              "      --disabled-bg-color: #DDD;\n",
              "  }\n",
              "\n",
              "  [theme=dark] .colab-df-quickchart {\n",
              "      --bg-color: #3B4455;\n",
              "      --fill-color: #D2E3FC;\n",
              "      --hover-bg-color: #434B5C;\n",
              "      --hover-fill-color: #FFFFFF;\n",
              "      --disabled-bg-color: #3B4455;\n",
              "      --disabled-fill-color: #666;\n",
              "  }\n",
              "\n",
              "  .colab-df-quickchart {\n",
              "    background-color: var(--bg-color);\n",
              "    border: none;\n",
              "    border-radius: 50%;\n",
              "    cursor: pointer;\n",
              "    display: none;\n",
              "    fill: var(--fill-color);\n",
              "    height: 32px;\n",
              "    padding: 0;\n",
              "    width: 32px;\n",
              "  }\n",
              "\n",
              "  .colab-df-quickchart:hover {\n",
              "    background-color: var(--hover-bg-color);\n",
              "    box-shadow: 0 1px 2px rgba(60, 64, 67, 0.3), 0 1px 3px 1px rgba(60, 64, 67, 0.15);\n",
              "    fill: var(--button-hover-fill-color);\n",
              "  }\n",
              "\n",
              "  .colab-df-quickchart-complete:disabled,\n",
              "  .colab-df-quickchart-complete:disabled:hover {\n",
              "    background-color: var(--disabled-bg-color);\n",
              "    fill: var(--disabled-fill-color);\n",
              "    box-shadow: none;\n",
              "  }\n",
              "\n",
              "  .colab-df-spinner {\n",
              "    border: 2px solid var(--fill-color);\n",
              "    border-color: transparent;\n",
              "    border-bottom-color: var(--fill-color);\n",
              "    animation:\n",
              "      spin 1s steps(1) infinite;\n",
              "  }\n",
              "\n",
              "  @keyframes spin {\n",
              "    0% {\n",
              "      border-color: transparent;\n",
              "      border-bottom-color: var(--fill-color);\n",
              "      border-left-color: var(--fill-color);\n",
              "    }\n",
              "    20% {\n",
              "      border-color: transparent;\n",
              "      border-left-color: var(--fill-color);\n",
              "      border-top-color: var(--fill-color);\n",
              "    }\n",
              "    30% {\n",
              "      border-color: transparent;\n",
              "      border-left-color: var(--fill-color);\n",
              "      border-top-color: var(--fill-color);\n",
              "      border-right-color: var(--fill-color);\n",
              "    }\n",
              "    40% {\n",
              "      border-color: transparent;\n",
              "      border-right-color: var(--fill-color);\n",
              "      border-top-color: var(--fill-color);\n",
              "    }\n",
              "    60% {\n",
              "      border-color: transparent;\n",
              "      border-right-color: var(--fill-color);\n",
              "    }\n",
              "    80% {\n",
              "      border-color: transparent;\n",
              "      border-right-color: var(--fill-color);\n",
              "      border-bottom-color: var(--fill-color);\n",
              "    }\n",
              "    90% {\n",
              "      border-color: transparent;\n",
              "      border-bottom-color: var(--fill-color);\n",
              "    }\n",
              "  }\n",
              "</style>\n",
              "\n",
              "  <script>\n",
              "    async function quickchart(key) {\n",
              "      const quickchartButtonEl =\n",
              "        document.querySelector('#' + key + ' button');\n",
              "      quickchartButtonEl.disabled = true;  // To prevent multiple clicks.\n",
              "      quickchartButtonEl.classList.add('colab-df-spinner');\n",
              "      try {\n",
              "        const charts = await google.colab.kernel.invokeFunction(\n",
              "            'suggestCharts', [key], {});\n",
              "      } catch (error) {\n",
              "        console.error('Error during call to suggestCharts:', error);\n",
              "      }\n",
              "      quickchartButtonEl.classList.remove('colab-df-spinner');\n",
              "      quickchartButtonEl.classList.add('colab-df-quickchart-complete');\n",
              "    }\n",
              "    (() => {\n",
              "      let quickchartButtonEl =\n",
              "        document.querySelector('#df-4c1e38e8-64c8-46ff-b79c-b0ed08d72be0 button');\n",
              "      quickchartButtonEl.style.display =\n",
              "        google.colab.kernel.accessAllowed ? 'block' : 'none';\n",
              "    })();\n",
              "  </script>\n",
              "</div>\n",
              "\n",
              "    </div>\n",
              "  </div>\n"
            ],
            "application/vnd.google.colaboratory.intrinsic+json": {
              "type": "dataframe",
              "summary": "{\n  \"name\": \"df\",\n  \"rows\": 5,\n  \"fields\": [\n    {\n      \"column\": \"text\",\n      \"properties\": {\n        \"dtype\": \"string\",\n        \"num_unique_values\": 5,\n        \"samples\": [\n          \"\\u09ac\\u09bf\\u099a\\u09be\\u09b0\\u0995 \\u09a8\\u09bf\\u09b0\\u09cd\\u09ac\\u09be\\u099a\\u09a8 \\u0995\\u09b0\\u09be\\u09b0 \\u0986\\u0997\\u09c7 \\u09a4\\u09be\\u09a6\\u09c7\\u09b0 \\u09a6\\u0995\\u09cd\\u09b7\\u09a4\\u09be \\u0986\\u099a\\u09b0\\u09a8 \\u09a6\\u09c1\\u09b0\\u09a6\\u09b0\\u09cd\\u09b6\\u09c0\\u09a4\\u09be \\u09ae\\u09be\\u09b0\\u09cd\\u099c\\u09bf\\u09a4 \\u09b0\\u09c1\\u099a\\u09bf \\u0993 \\u0986\\u099a\\u09be\\u09b0 \\u0986\\u099a\\u09b0\\u09a3 \\u09ac\\u09bf\\u099a\\u09be\\u09b0 \\u0995\\u09b0\\u09be\\u09b0 \\u09aa\\u09cd\\u09b0\\u09df\\u09cb\\u099c\\u09a8 \\u099b\\u09bf\\u09b2\\u09cb\\u0964 \\u098f\\u0995\\u099f\\u09be \\u09b0\\u09bf\\u09df\\u09c7\\u09b2\\u09c7\\u099f\\u09bf \\u09b6\\u09cb \\u09b2\\u09be\\u0996\\u09cb \\u0995\\u09cb\\u099f\\u09bf \\u09ae\\u09be\\u09a8\\u09c1\\u09b7 \\u09a6\\u09c7\\u0996\\u099b\\u09c7 \\u09b8\\u09c7\\u0996\\u09be\\u09a8\\u09c7 \\u09aa\\u09cd\\u09b0\\u09a4\\u09bf\\u09af\\u09cb\\u0997\\u09c0\\u09a6\\u09c7\\u09b0 \\u09a4\\u09bf\\u09b0\\u09b8\\u09cd\\u0995\\u09be\\u09b0 \\u09ac\\u09be \\u09b9\\u09c7\\u0993 \\u0995\\u09b0\\u09be\\u09b0 \\u0985\\u09a7\\u09bf\\u0995\\u09be\\u09b0 \\u098f\\u09b8\\u09ac \\u09ac\\u09bf\\u099a\\u09be\\u09b0\\u0995\\u09a6\\u09c7\\u09b0 \\u0995\\u09c7 \\u09a6\\u09bf\\u09df\\u09c7\\u099b\\u09c7 \\u09a7\\u09bf\\u0995\\u09cd\\u0995\\u09be\\u09b0 \\u09af\\u09be\\u09a8\\u09be\\u0987 \\u098f\\u09ae\\u09a8 \\u09ac\\u09bf\\u099a\\u09be\\u09b0\\u0995\\u09a6\\u09c7\\u09b0 \\u09ac\\u09bf\\u09b6\\u09c7\\u09b7 \\u0995\\u09b0\\u09c7 \\u09a6\\u09be\\u0981\\u09dc\\u09bf \\u0986\\u09b0 \\u098f\\u09b2\\u09cb\\u09ae\\u09c7\\u09b2\\u09cb \\u099a\\u09c1\\u09b2\\u0993\\u09df\\u09be\\u09b2\\u09be \\u09aa\\u09be\\u0997\\u09b2 \\u09ae\\u09be\\u09b0\\u09cd\\u0995\\u09be \\u09b2\\u09cb\\u0995\\u099f\\u09be\\u0995\\u09c7\\u0964\",\n          \"\\u098f\\u0987 \\u09ae\\u09be\\u09a6\\u09be\\u09b0\\u09bf \\u098f\\u0995\\u099f\\u09be \\u09b9\\u09bf\\u099c\\u09a1\\u09bc\\u09be \\u0986\\u0997\\u09be\\u09ae\\u09c0\\u09ac\\u09be\\u09b0 \\u09b8\\u09c7 \\u09b8\\u09c7\\u09a8\\u09cd\\u099f\\u09be\\u09b0 \\u09aa\\u09af\\u09bc\\u09c7\\u09a8\\u09cd\\u099f\\u09c7 \\u09b8\\u09cd\\u099f\\u09cd\\u09b0\\u09cb\\u0995 \\u0995\\u09b0\\u09ac\\u09c7 \\u09a4\\u0996\\u09a8 \\u09a4\\u09be\\u09b0 \\u09aa\\u09c1\\u099f\\u0995\\u09bf\\u09b0 \\u099b\\u09bf\\u09a6\\u09cd\\u09b0 \\u09ac\\u09a8\\u09cd\\u09a7 \\u09b9\\u09af\\u09bc\\u09c7 \\u09af\\u09be\\u09ac\\u09c7 \\u098f\\u09ac\\u0982\",\n          \"\\u09a4\\u09c1\\u0987 \\u098f\\u0995\\u099f\\u09be \\u0996\\u09be\\u09a8\\u0995\\u09bf\\u09b0 \\u09aa\\u09cb\\u09b2\\u09be\"\n        ],\n        \"semantic_type\": \"\",\n        \"description\": \"\"\n      }\n    },\n    {\n      \"column\": \"label\",\n      \"properties\": {\n        \"dtype\": \"string\",\n        \"num_unique_values\": 4,\n        \"samples\": [\n          \"gender\",\n          \"Political\",\n          \"Personal\"\n        ],\n        \"semantic_type\": \"\",\n        \"description\": \"\"\n      }\n    },\n    {\n      \"column\": \"cleaned_text\",\n      \"properties\": {\n        \"dtype\": \"string\",\n        \"num_unique_values\": 5,\n        \"samples\": [\n          \"\\u09ac\\u09bf\\u099a\\u09be\\u09b0\\u0995 \\u09a8\\u09bf\\u09b0\\u09cd\\u09ac\\u09be\\u099a\\u09a8 \\u0986\\u0997\\u09c7 \\u09a6\\u0995\\u09cd\\u09b7\\u09a4\\u09be \\u0986\\u099a\\u09b0\\u09a8 \\u09a6\\u09c1\\u09b0\\u09a6\\u09b0\\u09cd\\u09b6\\u09c0\\u09a4\\u09be \\u09ae\\u09be\\u09b0\\u09cd\\u099c\\u09bf\\u09a4 \\u09b0\\u09c1\\u099a\\u09bf \\u0986\\u099a\\u09be\\u09b0 \\u0986\\u099a\\u09b0\\u09a3 \\u09ac\\u09bf\\u099a\\u09be\\u09b0 \\u09aa\\u09cd\\u09b0\\u09df\\u09cb\\u099c\\u09a8 \\u099b\\u09bf\\u09b2\\u09cb\\u0964 \\u09b0\\u09bf\\u09df\\u09c7\\u09b2\\u09c7\\u099f\\u09bf \\u09b6\\u09cb \\u09b2\\u09be\\u0996\\u09cb \\u0995\\u09cb\\u099f\\u09bf \\u09ae\\u09be\\u09a8\\u09c1\\u09b7 \\u09a6\\u09c7\\u0996\\u099b\\u09c7 \\u09b8\\u09c7\\u0996\\u09be\\u09a8\\u09c7 \\u09aa\\u09cd\\u09b0\\u09a4\\u09bf\\u09af\\u09cb\\u0997\\u09c0\\u09a6\\u09c7\\u09b0 \\u09a4\\u09bf\\u09b0\\u09b8\\u09cd\\u0995\\u09be\\u09b0 \\u09ac\\u09be \\u09b9\\u09c7\\u0993 \\u0985\\u09a7\\u09bf\\u0995\\u09be\\u09b0 \\u098f\\u09b8\\u09ac \\u09ac\\u09bf\\u099a\\u09be\\u09b0\\u0995\\u09a6\\u09c7\\u09b0 \\u09a6\\u09bf\\u09df\\u09c7\\u099b\\u09c7 \\u09a7\\u09bf\\u0995\\u09cd\\u0995\\u09be\\u09b0 \\u09af\\u09be\\u09a8\\u09be\\u0987 \\u098f\\u09ae\\u09a8 \\u09ac\\u09bf\\u099a\\u09be\\u09b0\\u0995\\u09a6\\u09c7\\u09b0 \\u09ac\\u09bf\\u09b6\\u09c7\\u09b7 \\u09a6\\u09be\\u0981\\u09dc\\u09bf \\u098f\\u09b2\\u09cb\\u09ae\\u09c7\\u09b2\\u09cb \\u099a\\u09c1\\u09b2\\u0993\\u09df\\u09be\\u09b2\\u09be \\u09aa\\u09be\\u0997\\u09b2 \\u09ae\\u09be\\u09b0\\u09cd\\u0995\\u09be \\u09b2\\u09cb\\u0995\\u099f\\u09be\\u0995\\u09c7\\u0964\",\n          \"\\u09ae\\u09be\\u09a6\\u09be\\u09b0\\u09bf \\u09b9\\u09bf\\u099c\\u09a1\\u09bc\\u09be \\u0986\\u0997\\u09be\\u09ae\\u09c0\\u09ac\\u09be\\u09b0 \\u09b8\\u09c7\\u09a8\\u09cd\\u099f\\u09be\\u09b0 \\u09aa\\u09af\\u09bc\\u09c7\\u09a8\\u09cd\\u099f\\u09c7 \\u09b8\\u09cd\\u099f\\u09cd\\u09b0\\u09cb\\u0995 \\u09a4\\u0996\\u09a8 \\u09aa\\u09c1\\u099f\\u0995\\u09bf\\u09b0 \\u099b\\u09bf\\u09a6\\u09cd\\u09b0 \\u09ac\\u09a8\\u09cd\\u09a7 \\u09af\\u09be\\u09ac\\u09c7\",\n          \"\\u09a4\\u09c1\\u0987 \\u0996\\u09be\\u09a8\\u0995\\u09bf\\u09b0 \\u09aa\\u09cb\\u09b2\\u09be\"\n        ],\n        \"semantic_type\": \"\",\n        \"description\": \"\"\n      }\n    }\n  ]\n}"
            }
          },
          "metadata": {},
          "execution_count": 8
        }
      ]
    },
    {
      "cell_type": "markdown",
      "source": [
        "## Data preprocessing\n",
        "Text clean and emoji conversion did not use here as we previously done that while creating the dataset. Tokenize the dataset for mBERT and save it for later use. Also Label converted to numeric value."
      ],
      "metadata": {
        "id": "mp3nPaFOcuiV"
      }
    },
    {
      "cell_type": "code",
      "source": [
        "import pandas as pd\n",
        "import re\n",
        "# from emoji import demojize\n",
        "from sklearn.preprocessing import LabelEncoder\n",
        "from transformers import BertTokenizer\n",
        "\n",
        "# Load mBERT tokenizer\n",
        "tokenizer = BertTokenizer.from_pretrained(\"bert-base-multilingual-cased\")\n",
        "\n",
        "# 1. Emoji Replacement\n",
        "# def replace_emojis_with_text(text):\n",
        "#     text = demojize(text, delimiters=(\" \", \" \"))  # 😊 → smiling face\n",
        "#     text = re.sub(r\":\", \"\", text)  # Remove colons\n",
        "#     return text\n",
        "\n",
        "# # 2. Text Cleaning\n",
        "# def clean_text(text):\n",
        "#     text = re.sub(r\"http\\S+|www\\S+|https\\S+\", \"\", text)  # Remove URLs\n",
        "#     text = re.sub(r\"\\s+\", \" \", text).strip()  # Normalize spaces\n",
        "#     return text\n",
        "\n",
        "# 3. Preprocessing Pipeline for Text\n",
        "# def preprocess_text(text):\n",
        "#     text = replace_emojis_with_text(text)\n",
        "#     text = clean_text(text)\n",
        "#     return text\n",
        "\n",
        "# 4. Tokenization for mBERT\n",
        "def tokenize_text(text, tokenizer, max_length):\n",
        "    encoded = tokenizer.encode_plus(\n",
        "        text,\n",
        "        add_special_tokens=True,  # Add [CLS] and [SEP]\n",
        "        max_length=max_length,    # Truncate to max length\n",
        "        padding=\"max_length\",     # Pad to max length\n",
        "        truncation=True,          # Truncate if needed\n",
        "        return_tensors=\"pt\"       # Return PyTorch tensors\n",
        "    )\n",
        "    return encoded[\"input_ids\"].squeeze(0).tolist(), encoded[\"attention_mask\"].squeeze(0).tolist()\n",
        "\n",
        "# df = pd.read_csv(\"/content/drive/MyDrive/MScCS/Datasets/Modified/final_merged_dataset_no_duplicates.csv\")\n",
        "# df = df_balanced\n",
        "# Preprocess the text column\n",
        "# df[\"text\"] = df[\"text\"].apply(preprocess_text)\n",
        "\n",
        "max_length = 128\n",
        "df[\"input_ids\"], df[\"attention_mask\"] = zip(*df[\"cleaned_text\"].apply(lambda x: tokenize_text(x, tokenizer, max_length)))\n",
        "\n",
        "# Encode string labels to numerical values\n",
        "label_encoder = LabelEncoder()\n",
        "df[\"label_encoded\"] = label_encoder.fit_transform(df[\"label\"])\n",
        "\n",
        "# Save the processed dataset and label encoder\n",
        "df.to_csv(\"processed_hate_speech_dataset.csv\", index=False)\n",
        "\n",
        "# Save the label encoder for future use\n",
        "import pickle\n",
        "with open(\"label_encoder.pkl\", \"wb\") as f:\n",
        "    pickle.dump(label_encoder, f)\n",
        "\n",
        "print(\"Preprocessing completed. Processed dataset saved as 'processed_hate_speech_dataset.csv'.\")\n"
      ],
      "metadata": {
        "colab": {
          "base_uri": "https://localhost:8080/",
          "height": 290,
          "referenced_widgets": [
            "19add75fda8c4f469ceca118ab4b6380",
            "e34341227bb4474d8810e184a4d441f6",
            "c9830253194a4e328f34a01b705ba022",
            "d0837165ead9442396c244a42a2bf9c6",
            "fbe602d071104e82b904c6b23f23cbfb",
            "b0e139143074469b96636712f3ca43d1",
            "7adff896431e438e930733b29cc08eba",
            "62612151fb074b0a96f99d7d4203bafc",
            "e28d52afb6174cc89653b1844d126bab",
            "6060e164374b4ae395a0464ce0c89a24",
            "98e433a469a242c3a991d5c9327b9485",
            "a5312a72f3954b5ab9ad85148dcb409d",
            "46385ec823824ee284ad3d00767b5546",
            "66f680994e2847eb96c96105e73f23bd",
            "1ef2d67c8c074b1fa05b99e06140a825",
            "e4fe55c54b1c4a6d932d1cfdc703e588",
            "156def2eefaf464c8c3ca6c625d7001b",
            "7a53d391cafb4c978d00ba2f4d5457ee",
            "f7847768f0d841149aac751aedd0e149",
            "0ebf916cad9246309e4c7e193b12b3b3",
            "d7aa316f0ffc4217ba7f431086c24d03",
            "e226cd4a29364a9ca577ca0fe84d586e",
            "061d60ea95d84470a9f11a231b452d8c",
            "dc903b40effd47c99780d461be747e1f",
            "8f675f88d4a54454a080a750e3568a02",
            "00b8b8951243400aab10161d45392d30",
            "dfdb39d3fe774cc6937f6a2554d6bea9",
            "498dc717c9024dda99d9513477adfb82",
            "9240fc69c24a42249ce353069d547fca",
            "3683dd29604a472d8894feb116d7b474",
            "531b428ec74a4145922ba802f960c310",
            "2bf0d1505ace4514b81eac10e478451a",
            "8d281523dab945c7a9c340493437b69c",
            "05d742ee31774274b146656aa15e3ada",
            "20933c93d175486199497d4b76a418de",
            "2b3a0564419749e7b61d58279ccd4418",
            "6c45b87a5bc24cdbb5bc6751371ea43f",
            "8d0a490586d54c628d5bf6ca6ec4825e",
            "a3468dfbd0fc410194d8311c47fc3f85",
            "b0f2c92f3f2d4bb99539167da1adae44",
            "e78cbc30886c4af9b4d4e76ff8bc210c",
            "b136c58c9fd5499f9e33ff8ba48ea5ff",
            "43dc5a24cd8541fdb46666fbd0859fb2",
            "567877eab1414f55a027afe4eae5f2ff"
          ]
        },
        "id": "HT1T3Dn-3Pl7",
        "outputId": "1a34a5d2-70f0-4758-ad30-cb92e717d4e0",
        "collapsed": true
      },
      "execution_count": null,
      "outputs": [
        {
          "output_type": "stream",
          "name": "stderr",
          "text": [
            "/usr/local/lib/python3.10/dist-packages/huggingface_hub/utils/_auth.py:94: UserWarning: \n",
            "The secret `HF_TOKEN` does not exist in your Colab secrets.\n",
            "To authenticate with the Hugging Face Hub, create a token in your settings tab (https://huggingface.co/settings/tokens), set it as secret in your Google Colab and restart your session.\n",
            "You will be able to reuse this secret in all of your notebooks.\n",
            "Please note that authentication is recommended but still optional to access public models or datasets.\n",
            "  warnings.warn(\n"
          ]
        },
        {
          "output_type": "display_data",
          "data": {
            "text/plain": [
              "tokenizer_config.json:   0%|          | 0.00/49.0 [00:00<?, ?B/s]"
            ],
            "application/vnd.jupyter.widget-view+json": {
              "version_major": 2,
              "version_minor": 0,
              "model_id": "19add75fda8c4f469ceca118ab4b6380"
            }
          },
          "metadata": {}
        },
        {
          "output_type": "display_data",
          "data": {
            "text/plain": [
              "vocab.txt:   0%|          | 0.00/996k [00:00<?, ?B/s]"
            ],
            "application/vnd.jupyter.widget-view+json": {
              "version_major": 2,
              "version_minor": 0,
              "model_id": "a5312a72f3954b5ab9ad85148dcb409d"
            }
          },
          "metadata": {}
        },
        {
          "output_type": "display_data",
          "data": {
            "text/plain": [
              "tokenizer.json:   0%|          | 0.00/1.96M [00:00<?, ?B/s]"
            ],
            "application/vnd.jupyter.widget-view+json": {
              "version_major": 2,
              "version_minor": 0,
              "model_id": "061d60ea95d84470a9f11a231b452d8c"
            }
          },
          "metadata": {}
        },
        {
          "output_type": "display_data",
          "data": {
            "text/plain": [
              "config.json:   0%|          | 0.00/625 [00:00<?, ?B/s]"
            ],
            "application/vnd.jupyter.widget-view+json": {
              "version_major": 2,
              "version_minor": 0,
              "model_id": "05d742ee31774274b146656aa15e3ada"
            }
          },
          "metadata": {}
        },
        {
          "output_type": "stream",
          "name": "stdout",
          "text": [
            "Preprocessing completed. Processed dataset saved as 'processed_hate_speech_dataset.csv'.\n"
          ]
        }
      ]
    },
    {
      "cell_type": "code",
      "source": [
        "import torch\n",
        "from torch.utils.data import Dataset, DataLoader"
      ],
      "metadata": {
        "id": "HVSITy3c3y-e"
      },
      "execution_count": null,
      "outputs": []
    },
    {
      "cell_type": "markdown",
      "source": [
        "DataFrame into a PyTorch dataset"
      ],
      "metadata": {
        "id": "hfe7uZJ8fszw"
      }
    },
    {
      "cell_type": "code",
      "source": [
        "class HateSpeechDataset(Dataset):\n",
        "    def __init__(self, dataframe):\n",
        "        \"\"\"\n",
        "        Args:\n",
        "            dataframe (pd.DataFrame): DataFrame containing input_ids, attention_mask, and labels.\n",
        "        \"\"\"\n",
        "        self.input_ids = dataframe[\"input_ids\"].tolist()\n",
        "        self.attention_mask = dataframe[\"attention_mask\"].tolist()\n",
        "        self.labels = dataframe[\"label_encoded\"].tolist()\n",
        "\n",
        "    def __len__(self):\n",
        "        return len(self.labels)\n",
        "\n",
        "    def __getitem__(self, idx):\n",
        "        \"\"\"\n",
        "        Returns a dictionary with input_ids, attention_mask, and label.\n",
        "        \"\"\"\n",
        "        input_ids = torch.tensor(self.input_ids[idx], dtype=torch.long)\n",
        "        attention_mask = torch.tensor(self.attention_mask[idx], dtype=torch.long)\n",
        "        label = torch.tensor(self.labels[idx], dtype=torch.long)\n",
        "\n",
        "        return {\n",
        "            \"input_ids\": input_ids,\n",
        "            \"attention_mask\": attention_mask,\n",
        "            \"label\": label\n",
        "        }\n"
      ],
      "metadata": {
        "id": "igchZ9a431jD"
      },
      "execution_count": null,
      "outputs": []
    },
    {
      "cell_type": "markdown",
      "source": [
        "Loading the preprocessed dataset"
      ],
      "metadata": {
        "id": "qpsK0BirgnWk"
      }
    },
    {
      "cell_type": "code",
      "source": [
        "import ast\n",
        "\n",
        "# Load the processed dataset\n",
        "df = pd.read_csv(\"processed_hate_speech_dataset.csv\")\n",
        "\n",
        "# Convert string representations of lists back to Python lists\n",
        "df[\"input_ids\"] = df[\"input_ids\"].apply(ast.literal_eval)\n",
        "df[\"attention_mask\"] = df[\"attention_mask\"].apply(ast.literal_eval)\n",
        "\n",
        "# The labels should already be integers; if not, cast them\n",
        "df[\"label_encoded\"] = df[\"label_encoded\"].astype(int)\n",
        "\n",
        "print(\"Dataset loaded and fixed!\")\n"
      ],
      "metadata": {
        "colab": {
          "base_uri": "https://localhost:8080/"
        },
        "id": "FYe_TXft36KY",
        "outputId": "ba83f3f4-a377-48bf-935e-ec581e1fd74d"
      },
      "execution_count": null,
      "outputs": [
        {
          "output_type": "stream",
          "name": "stdout",
          "text": [
            "Dataset loaded and fixed!\n"
          ]
        }
      ]
    },
    {
      "cell_type": "markdown",
      "source": [
        "Split the data (80% train, 10% validation, 10% test)"
      ],
      "metadata": {
        "id": "fjBYin7Sgtti"
      }
    },
    {
      "cell_type": "code",
      "source": [
        "from sklearn.model_selection import train_test_split\n",
        "\n",
        "train_df, temp_df = train_test_split(df, test_size=0.2, stratify=df['label'], random_state=42)\n",
        "val_df, test_df = train_test_split(temp_df, test_size=0.5, stratify=temp_df['label'], random_state=42) # Changed stratify parameter to temp_df['label']\n",
        "\n",
        "print(f\"Train size: {len(train_df)}\")\n",
        "print(f\"Validation size: {len(val_df)}\")\n",
        "print(f\"Test size: {len(test_df)}\")"
      ],
      "metadata": {
        "colab": {
          "base_uri": "https://localhost:8080/"
        },
        "id": "RTxol2Tn4ZkR",
        "outputId": "43d31931-5750-4a5f-85ac-5efd1a693641"
      },
      "execution_count": null,
      "outputs": [
        {
          "output_type": "stream",
          "name": "stdout",
          "text": [
            "Train size: 24452\n",
            "Validation size: 3056\n",
            "Test size: 3057\n"
          ]
        }
      ]
    },
    {
      "cell_type": "markdown",
      "source": [
        "Checking each dataset label wise count"
      ],
      "metadata": {
        "id": "jMQd7pbGg8f7"
      }
    },
    {
      "cell_type": "code",
      "source": [
        "# prompt: train test label count\n",
        "\n",
        "print(f\"Train label counts:\\n{train_df['label'].value_counts()}\")\n",
        "print(f\"\\nValidation label counts:\\n{val_df['label'].value_counts()}\")\n",
        "print(f\"\\nTest label counts:\\n{test_df['label'].value_counts()}\")"
      ],
      "metadata": {
        "colab": {
          "base_uri": "https://localhost:8080/"
        },
        "id": "WD3Ou2nm8phs",
        "outputId": "e99cb79e-337e-42e0-f7d4-ed37b2ec3b98"
      },
      "execution_count": null,
      "outputs": [
        {
          "output_type": "stream",
          "name": "stdout",
          "text": [
            "Train label counts:\n",
            "label\n",
            "Personal        5487\n",
            "gender          5406\n",
            "Religious       5069\n",
            "Political       3730\n",
            "Geopolitical    3270\n",
            "sports          1490\n",
            "Name: count, dtype: int64\n",
            "\n",
            "Validation label counts:\n",
            "label\n",
            "Personal        686\n",
            "gender          675\n",
            "Religious       633\n",
            "Political       466\n",
            "Geopolitical    409\n",
            "sports          187\n",
            "Name: count, dtype: int64\n",
            "\n",
            "Test label counts:\n",
            "label\n",
            "Personal        686\n",
            "gender          676\n",
            "Religious       634\n",
            "Political       467\n",
            "Geopolitical    408\n",
            "sports          186\n",
            "Name: count, dtype: int64\n"
          ]
        }
      ]
    },
    {
      "cell_type": "markdown",
      "source": [
        "PyTorch dataset, Batch size. Dataset to DataLoader"
      ],
      "metadata": {
        "id": "hI4qYF4IhBU5"
      }
    },
    {
      "cell_type": "code",
      "source": [
        "# Create Dataset objects\n",
        "train_dataset = HateSpeechDataset(train_df)\n",
        "val_dataset = HateSpeechDataset(val_df)\n",
        "test_dataset = HateSpeechDataset(test_df)\n",
        "\n",
        "# Create DataLoaders\n",
        "batch_size = 32\n",
        "\n",
        "train_loader = DataLoader(train_dataset, batch_size=batch_size, shuffle=True)\n",
        "val_loader = DataLoader(val_dataset, batch_size=batch_size, shuffle=False)\n",
        "test_loader = DataLoader(test_dataset, batch_size=batch_size, shuffle=False)\n"
      ],
      "metadata": {
        "id": "43utOtWH5Exn"
      },
      "execution_count": null,
      "outputs": []
    },
    {
      "cell_type": "code",
      "source": [
        "# Fetch a batch from the train DataLoader\n",
        "batch = next(iter(train_loader))\n",
        "print(\"Batch input_ids shape:\", batch[\"input_ids\"].shape)\n",
        "print(\"Batch attention_mask shape:\", batch[\"attention_mask\"].shape)\n",
        "print(\"Batch labels shape:\", batch[\"label\"].shape)"
      ],
      "metadata": {
        "colab": {
          "base_uri": "https://localhost:8080/"
        },
        "id": "kBb8g0rk5hqk",
        "outputId": "98b40a85-9c3e-4b66-fee3-c465904b22d5"
      },
      "execution_count": null,
      "outputs": [
        {
          "output_type": "stream",
          "name": "stdout",
          "text": [
            "Batch input_ids shape: torch.Size([32, 128])\n",
            "Batch attention_mask shape: torch.Size([32, 128])\n",
            "Batch labels shape: torch.Size([32])\n"
          ]
        }
      ]
    },
    {
      "cell_type": "markdown",
      "source": [
        "## Model\n",
        "Downloading mBERT. As our number of class is 6, num_labels = 6"
      ],
      "metadata": {
        "id": "gE-WBFushagp"
      }
    },
    {
      "cell_type": "code",
      "source": [
        "from transformers import BertForSequenceClassification\n",
        "\n",
        "# Load mBERT with the number of classes\n",
        "num_labels = len(df[\"label_encoded\"].unique())  # Number of unique labels\n",
        "model = BertForSequenceClassification.from_pretrained(\n",
        "    \"bert-base-multilingual-cased\",\n",
        "    num_labels=num_labels\n",
        ")\n"
      ],
      "metadata": {
        "colab": {
          "base_uri": "https://localhost:8080/",
          "height": 105,
          "referenced_widgets": [
            "e5b592ebe1634e6c91577013510d2149",
            "b2a81342ca5a4759aab33fc185df9ca8",
            "b00d7a7bf21446c0ad4684d46e861e82",
            "78d3934eb7dc457bb6a6eb6b8ba28592",
            "7c3fbe7ace774126a2cae86933c7c402",
            "73fb0e73f8874a2c8c2ed426c35b9e52",
            "a5a7375b6080465cb48d4909f29cccc9",
            "e40fdbfb882e41549178cf4f8bd0bbb2",
            "615d238c37364395b692d4d1a9fb8345",
            "ef9e9e89f94640a691be214ed6f8b121",
            "27dcbfaa303c4a6dbc5626cbc5a80a8f"
          ]
        },
        "id": "RrA7T3215oGj",
        "outputId": "ffffbb97-1d0c-4e7c-b633-77cf43cb2dd6"
      },
      "execution_count": null,
      "outputs": [
        {
          "output_type": "display_data",
          "data": {
            "text/plain": [
              "model.safetensors:   0%|          | 0.00/714M [00:00<?, ?B/s]"
            ],
            "application/vnd.jupyter.widget-view+json": {
              "version_major": 2,
              "version_minor": 0,
              "model_id": "e5b592ebe1634e6c91577013510d2149"
            }
          },
          "metadata": {}
        },
        {
          "output_type": "stream",
          "name": "stderr",
          "text": [
            "Some weights of BertForSequenceClassification were not initialized from the model checkpoint at bert-base-multilingual-cased and are newly initialized: ['classifier.bias', 'classifier.weight']\n",
            "You should probably TRAIN this model on a down-stream task to be able to use it for predictions and inference.\n"
          ]
        }
      ]
    },
    {
      "cell_type": "markdown",
      "source": [
        "Adam optimizer. Learning rate is 5e-5. CrossEntropyLoss for loss."
      ],
      "metadata": {
        "id": "f-rsUHTyhs4O"
      }
    },
    {
      "cell_type": "code",
      "source": [
        "from transformers import AdamW\n",
        "from torch.nn import CrossEntropyLoss\n",
        "\n",
        "# Optimizer\n",
        "optimizer = AdamW(model.parameters(), lr=5e-5)\n",
        "\n",
        "# Loss function\n",
        "criterion = CrossEntropyLoss()"
      ],
      "metadata": {
        "colab": {
          "base_uri": "https://localhost:8080/"
        },
        "id": "Nw2mXrsk5xWu",
        "outputId": "81d09c52-cb7a-47db-892d-1a16cb3185f0"
      },
      "execution_count": null,
      "outputs": [
        {
          "output_type": "stream",
          "name": "stderr",
          "text": [
            "/usr/local/lib/python3.10/dist-packages/transformers/optimization.py:591: FutureWarning: This implementation of AdamW is deprecated and will be removed in a future version. Use the PyTorch implementation torch.optim.AdamW instead, or set `no_deprecation_warning=True` to disable this warning\n",
            "  warnings.warn(\n"
          ]
        }
      ]
    },
    {
      "cell_type": "markdown",
      "source": [
        "Traing the model. Validation accuracy, F1, recall and precision. We use 5 epochs.Here Early stoping function does not use."
      ],
      "metadata": {
        "id": "pPrwdz2AiFgw"
      }
    },
    {
      "cell_type": "code",
      "source": [
        "import matplotlib.pyplot as plt\n",
        "from sklearn.metrics import accuracy_score, precision_score, recall_score, f1_score\n",
        "import numpy as np\n",
        "\n",
        "# Training parameters\n",
        "epochs = 5 # Adjust as needed\n",
        "device = torch.device(\"cuda\" if torch.cuda.is_available() else \"cpu\")\n",
        "model.to(device)\n",
        "\n",
        "# Training loop with validation\n",
        "train_losses = []\n",
        "val_losses = []\n",
        "val_accuracies = []\n",
        "\n",
        "for epoch in range(epochs):\n",
        "    model.train()\n",
        "    running_loss = 0.0\n",
        "    for batch in train_loader:\n",
        "        input_ids = batch[\"input_ids\"].to(device)\n",
        "        attention_mask = batch[\"attention_mask\"].to(device)\n",
        "        labels = batch[\"label\"].to(device)\n",
        "\n",
        "        optimizer.zero_grad()\n",
        "        outputs = model(input_ids, attention_mask=attention_mask, labels=labels)\n",
        "        loss = outputs.loss\n",
        "        loss.backward()\n",
        "        optimizer.step()\n",
        "\n",
        "        running_loss += loss.item()\n",
        "\n",
        "    train_losses.append(running_loss / len(train_loader))\n",
        "    print(f\"Epoch {epoch+1}/{epochs}, Training Loss: {train_losses[-1]}\")\n",
        "\n",
        "\n",
        "    # Validation loop\n",
        "    model.eval()\n",
        "    val_loss = 0.0\n",
        "    val_preds = []\n",
        "    val_true = []\n",
        "    with torch.no_grad():\n",
        "        for batch in val_loader:\n",
        "          input_ids = batch[\"input_ids\"].to(device)\n",
        "          attention_mask = batch[\"attention_mask\"].to(device)\n",
        "          labels = batch[\"label\"].to(device)\n",
        "\n",
        "          outputs = model(input_ids, attention_mask=attention_mask, labels=labels)\n",
        "          loss = outputs.loss\n",
        "          val_loss += loss.item()\n",
        "\n",
        "          logits = outputs.logits\n",
        "          preds = torch.argmax(logits, dim=1).cpu().tolist()\n",
        "          val_preds.extend(preds)\n",
        "          val_true.extend(labels.cpu().tolist())\n",
        "\n",
        "\n",
        "    val_losses.append(val_loss / len(val_loader))\n",
        "    val_accuracy = accuracy_score(val_true, val_preds)\n",
        "    val_accuracies.append(val_accuracy)\n",
        "    print(f\"Epoch {epoch + 1}/{epochs}, Validation Loss: {val_losses[-1]}, Validation Accuracy: {val_accuracy}\")\n",
        "\n",
        "\n",
        "# Plotting the training loss\n",
        "plt.plot(train_losses, label='Training Loss')\n",
        "plt.plot(val_losses, label='Validation Loss')\n",
        "plt.xlabel('Epoch')\n",
        "plt.ylabel('Loss')\n",
        "plt.title('Training and Validation Loss')\n",
        "plt.legend()\n",
        "plt.show()\n",
        "\n",
        "# Calculate metrics\n",
        "val_precision = precision_score(val_true, val_preds, average='weighted') # Use 'weighted' for multiclass\n",
        "val_recall = recall_score(val_true, val_preds, average='weighted')\n",
        "val_f1 = f1_score(val_true, val_preds, average='weighted')\n",
        "\n",
        "print(f\"Validation Accuracy: {val_accuracy}\")\n",
        "print(f\"Validation Precision: {val_precision}\")\n",
        "print(f\"Validation Recall: {val_recall}\")\n",
        "print(f\"Validation F1-score: {val_f1}\")\n",
        "\n",
        "\n",
        "# Save the model\n",
        "torch.save(model.state_dict(), \"mbert_hate_speech_model.bin\")\n",
        "\n",
        "# Save performance metrics\n",
        "performance = {\n",
        "    'accuracy': val_accuracy,\n",
        "    'precision': val_precision,\n",
        "    'recall': val_recall,\n",
        "    'f1': val_f1\n",
        "}\n",
        "\n",
        "with open('model_performance.txt', 'w') as f:\n",
        "  for metric, value in performance.items():\n",
        "    f.write(f\"{metric}: {value}\\n\")"
      ],
      "metadata": {
        "colab": {
          "base_uri": "https://localhost:8080/",
          "height": 722
        },
        "id": "_d8Cb7p06LMh",
        "outputId": "628cdd23-ab3b-4536-dfc3-529309899938"
      },
      "execution_count": null,
      "outputs": [
        {
          "output_type": "stream",
          "name": "stdout",
          "text": [
            "Epoch 1/5, Training Loss: 1.152055532636206\n",
            "Epoch 1/5, Validation Loss: 0.9827400216211876, Validation Accuracy: 0.6639397905759162\n",
            "Epoch 2/5, Training Loss: 0.8830250744726144\n",
            "Epoch 2/5, Validation Loss: 0.9082290803392729, Validation Accuracy: 0.6927356020942408\n",
            "Epoch 3/5, Training Loss: 0.7774790730351716\n",
            "Epoch 3/5, Validation Loss: 0.8344679934283098, Validation Accuracy: 0.7293848167539267\n",
            "Epoch 4/5, Training Loss: 0.6924706072978724\n",
            "Epoch 4/5, Validation Loss: 0.8666700646281242, Validation Accuracy: 0.7113874345549738\n",
            "Epoch 5/5, Training Loss: 0.6138997001780404\n",
            "Epoch 5/5, Validation Loss: 0.8154209349304438, Validation Accuracy: 0.7293848167539267\n"
          ]
        },
        {
          "output_type": "display_data",
          "data": {
            "text/plain": [
              "<Figure size 640x480 with 1 Axes>"
            ],
            "image/png": "[encoded data removed]"
          },
          "metadata": {}
        },
        {
          "output_type": "stream",
          "name": "stdout",
          "text": [
            "Validation Accuracy: 0.7293848167539267\n",
            "Validation Precision: 0.7289824772156116\n",
            "Validation Recall: 0.7293848167539267\n",
            "Validation F1-score: 0.7272481414377037\n"
          ]
        }
      ]
    },
    {
      "cell_type": "markdown",
      "source": [
        "## Result\n",
        "Confusion Matrix for test data and testing test dataset."
      ],
      "metadata": {
        "id": "9M4NyH83i-dI"
      }
    },
    {
      "cell_type": "code",
      "source": [
        "from sklearn.metrics import confusion_matrix\n",
        "import seaborn as sns\n",
        "\n",
        "# Test loop\n",
        "model.eval()\n",
        "test_preds = []\n",
        "test_true = []\n",
        "with torch.no_grad():\n",
        "    for batch in test_loader:\n",
        "        input_ids = batch[\"input_ids\"].to(device)\n",
        "        attention_mask = batch[\"attention_mask\"].to(device)\n",
        "        labels = batch[\"label\"].to(device)\n",
        "\n",
        "        outputs = model(input_ids, attention_mask=attention_mask, labels=labels)\n",
        "        logits = outputs.logits\n",
        "        preds = torch.argmax(logits, dim=1).cpu().tolist()\n",
        "        test_preds.extend(preds)\n",
        "        test_true.extend(labels.cpu().tolist())\n",
        "\n",
        "# Calculate metrics\n",
        "test_accuracy = accuracy_score(test_true, test_preds)\n",
        "test_precision = precision_score(test_true, test_preds, average='weighted')\n",
        "test_recall = recall_score(test_true, test_preds, average='weighted')\n",
        "test_f1 = f1_score(test_true, test_preds, average='weighted')\n",
        "\n",
        "print(f\"Test Accuracy: {test_accuracy}\")\n",
        "print(f\"Test Precision: {test_precision}\")\n",
        "print(f\"Test Recall: {test_recall}\")\n",
        "print(f\"Test F1-score: {test_f1}\")\n",
        "\n",
        "# Confusion Matrix\n",
        "cm = confusion_matrix(test_true, test_preds)\n",
        "plt.figure(figsize=(8, 6))\n",
        "sns.heatmap(cm, annot=True, fmt=\"d\", cmap=\"Blues\",\n",
        "            xticklabels=label_encoder.classes_, yticklabels=label_encoder.classes_)\n",
        "plt.xlabel(\"Predicted Labels\")\n",
        "plt.ylabel(\"True Labels\")\n",
        "plt.title(\"Confusion Matrix\")\n",
        "plt.show()"
      ],
      "metadata": {
        "colab": {
          "base_uri": "https://localhost:8080/",
          "height": 635
        },
        "id": "2rVHYUHz-IZh",
        "outputId": "58e5d742-3e6a-4624-d117-bebc7ad5fdf1"
      },
      "execution_count": null,
      "outputs": [
        {
          "output_type": "stream",
          "name": "stdout",
          "text": [
            "Test Accuracy: 0.7448478900883219\n",
            "Test Precision: 0.7433441085356214\n",
            "Test Recall: 0.7448478900883219\n",
            "Test F1-score: 0.7420318005320222\n"
          ]
        },
        {
          "output_type": "display_data",
          "data": {
            "text/plain": [
              "<Figure size 800x600 with 2 Axes>"
            ],
            "image/png": "[encoded data removed]"
          },
          "metadata": {}
        }
      ]
    },
    {
      "cell_type": "markdown",
      "source": [
        "class-wise precision, recall, f1-score, support"
      ],
      "metadata": {
        "id": "nBd5rIhjjaad"
      }
    },
    {
      "cell_type": "code",
      "source": [
        "from sklearn.metrics import classification_report\n",
        "\n",
        "# Calculate and print classification report\n",
        "print(classification_report(test_true, test_preds, target_names=label_encoder.classes_))"
      ],
      "metadata": {
        "colab": {
          "base_uri": "https://localhost:8080/"
        },
        "id": "LSjcj_ONiwVD",
        "outputId": "46197a2f-4e43-41cb-ac0c-61e44c0d4f40"
      },
      "execution_count": null,
      "outputs": [
        {
          "output_type": "stream",
          "name": "stdout",
          "text": [
            "              precision    recall  f1-score   support\n",
            "\n",
            "Geopolitical       0.78      0.87      0.82       408\n",
            "    Personal       0.73      0.68      0.70       686\n",
            "   Political       0.71      0.78      0.75       467\n",
            "   Religious       0.77      0.71      0.74       634\n",
            "      gender       0.76      0.82      0.79       676\n",
            "      sports       0.65      0.48      0.56       186\n",
            "\n",
            "    accuracy                           0.74      3057\n",
            "   macro avg       0.73      0.72      0.72      3057\n",
            "weighted avg       0.74      0.74      0.74      3057\n",
            "\n"
          ]
        }
      ]
    },
    {
      "cell_type": "markdown",
      "source": [
        "sports class has poor performance as it is much smaller than other classes. Geopolitical has the highest performance. As its contextual meaning is different from other classes."
      ],
      "metadata": {
        "id": "HjdqvJySjp7l"
      }
    }
  ]
}