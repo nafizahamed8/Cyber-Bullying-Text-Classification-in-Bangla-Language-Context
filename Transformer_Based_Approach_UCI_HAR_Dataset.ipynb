{
  "nbformat": 4,
  "nbformat_minor": 0,
  "metadata": {
    "colab": {
      "provenance": [],
      "machine_shape": "hm",
      "gpuType": "T4",
      "include_colab_link": true
    },
    "kernelspec": {
      "name": "python3",
      "display_name": "Python 3"
    },
    "language_info": {
      "name": "python"
    },
    "accelerator": "GPU"
  },
  "cells": [
    {
      "cell_type": "markdown",
      "metadata": {
        "id": "view-in-github",
        "colab_type": "text"
      },
      "source": [
        "<a href=\"https://colab.research.google.com/github/nafizahamed8/Artificial-Intelligence-repo/blob/main/Transformer_Based_Approach_UCI_HAR_Dataset.ipynb\" target=\"_parent\"><img src=\"https://colab.research.google.com/assets/colab-badge.svg\" alt=\"Open In Colab\"/></a>"
      ]
    },
    {
      "cell_type": "code",
      "execution_count": null,
      "metadata": {
        "colab": {
          "base_uri": "https://localhost:8080/"
        },
        "id": "xDgwaqK3f4py",
        "outputId": "83688fc9-bddc-43b3-fa74-f1bc4473e687"
      },
      "outputs": [
        {
          "output_type": "stream",
          "name": "stdout",
          "text": [
            "Mounted at /content/drive\n"
          ]
        }
      ],
      "source": [
        "from google.colab import drive\n",
        "drive.mount('/content/drive')"
      ]
    },
    {
      "cell_type": "code",
      "source": [
        "import torch\n",
        "import torch.nn as nn\n",
        "import torch.optim as optim\n",
        "from sklearn.model_selection import train_test_split\n",
        "from torch.utils.data import DataLoader, TensorDataset\n",
        "import matplotlib.pyplot as plt\n",
        "import numpy as np\n",
        "import pandas as pd\n",
        "from sklearn.preprocessing import StandardScaler, LabelEncoder\n",
        "from sklearn.metrics import accuracy_score, confusion_matrix\n",
        "import seaborn as sns"
      ],
      "metadata": {
        "id": "h9Nbwkf-f-9z"
      },
      "execution_count": null,
      "outputs": []
    },
    {
      "cell_type": "code",
      "source": [
        "train_data_path = \"/content/drive/MyDrive/UCI HAR Dataset/train/X_train.txt\"\n",
        "train_labels_path = \"/content/drive/MyDrive/UCI HAR Dataset/train/y_train.txt\"\n",
        "test_data_path = \"/content/drive/MyDrive/UCI HAR Dataset/test/X_test.txt\"\n",
        "test_labels_path = \"/content/drive/MyDrive/UCI HAR Dataset/test/y_test.txt\""
      ],
      "metadata": {
        "id": "3kXODb6qgDSb"
      },
      "execution_count": null,
      "outputs": []
    },
    {
      "cell_type": "code",
      "source": [
        "X_train = pd.read_csv(train_data_path, header=None, delim_whitespace=True)\n",
        "y_train = pd.read_csv(train_labels_path, header=None)\n",
        "X_test = pd.read_csv(test_data_path, header=None, delim_whitespace=True)\n",
        "y_test = pd.read_csv(test_labels_path, header=None)"
      ],
      "metadata": {
        "colab": {
          "base_uri": "https://localhost:8080/"
        },
        "id": "kv832arLgNRS",
        "outputId": "270da644-0105-4a98-a17e-c21c33eefef2"
      },
      "execution_count": null,
      "outputs": [
        {
          "output_type": "stream",
          "name": "stderr",
          "text": [
            "<ipython-input-4-f2305daab260>:1: FutureWarning: The 'delim_whitespace' keyword in pd.read_csv is deprecated and will be removed in a future version. Use ``sep='\\s+'`` instead\n",
            "  X_train = pd.read_csv(train_data_path, header=None, delim_whitespace=True)\n",
            "<ipython-input-4-f2305daab260>:3: FutureWarning: The 'delim_whitespace' keyword in pd.read_csv is deprecated and will be removed in a future version. Use ``sep='\\s+'`` instead\n",
            "  X_test = pd.read_csv(test_data_path, header=None, delim_whitespace=True)\n"
          ]
        }
      ]
    },
    {
      "cell_type": "code",
      "source": [
        "scaler = StandardScaler()\n",
        "X_train = scaler.fit_transform(X_train)\n",
        "X_test = scaler.transform(X_test)"
      ],
      "metadata": {
        "id": "pQmGA_IrgRCS"
      },
      "execution_count": null,
      "outputs": []
    },
    {
      "cell_type": "code",
      "source": [
        "label_encoder = LabelEncoder()\n",
        "y_train = label_encoder.fit_transform(y_train.values.ravel())\n",
        "y_test = label_encoder.transform(y_test.values.ravel())"
      ],
      "metadata": {
        "id": "FsaSZBjegUUx"
      },
      "execution_count": null,
      "outputs": []
    },
    {
      "cell_type": "code",
      "source": [
        "# Concatenate the datasets\n",
        "X_all = np.concatenate((X_train, X_test))\n",
        "y_all = np.concatenate((y_train, y_test))"
      ],
      "metadata": {
        "id": "inb-GscrgYQi"
      },
      "execution_count": null,
      "outputs": []
    },
    {
      "cell_type": "code",
      "source": [
        "# --- Data Augmentation Functions ---\n",
        "def jitter(X, sigma=0.05):\n",
        "    \"\"\"Adds random noise to the input data.\"\"\"\n",
        "    noise = np.random.normal(loc=0, scale=sigma, size=X.shape)\n",
        "    return X + noise\n",
        "\n",
        "def scaling(X, sigma=0.1):\n",
        "    \"\"\"Scales the input data by a random factor.\"\"\"\n",
        "    scaling_factor = np.random.normal(loc=1.0, scale=sigma, size=(X.shape[0], 1))\n",
        "    return X * scaling_factor\n",
        "\n",
        "def permutation(X, max_segments=5, seg_mode=\"equal\"):\n",
        "    \"\"\"Randomly permutes segments within the time series.\"\"\"\n",
        "    orig_steps = np.arange(X.shape[2])  # Assuming your data is 3D: (samples, channels, time steps)\n",
        "    num_segs = np.random.randint(1, max_segments, size=(X.shape[0]))\n",
        "    ret = np.zeros_like(X)\n",
        "    for i, pat in enumerate(X):\n",
        "        if num_segs[i] > 1:\n",
        "            if seg_mode == \"random\":\n",
        "                split_points = np.random.choice(X.shape[2] - 2, num_segs[i] - 1, replace=False)\n",
        "                split_points.sort()\n",
        "                splits = np.split(orig_steps, split_points)\n",
        "            else:\n",
        "                splits = np.array_split(orig_steps, num_segs[i])\n",
        "            warp = np.concatenate(np.random.permutation(splits)).ravel()\n",
        "            ret[i] = pat[0, warp]  # Accessing the channels dimension with index 0\n",
        "        else:\n",
        "            ret[i] = pat\n",
        "    return ret"
      ],
      "metadata": {
        "id": "ZV4CqkGVgcR9"
      },
      "execution_count": null,
      "outputs": []
    },
    {
      "cell_type": "code",
      "source": [
        "X_augmented = jitter(X_all)\n",
        "X_augmented = scaling(jitter(X_all))"
      ],
      "metadata": {
        "id": "s5xqO4gnj9iP"
      },
      "execution_count": null,
      "outputs": []
    },
    {
      "cell_type": "code",
      "source": [
        "# Add augmented data to your dataset\n",
        "X_all = np.concatenate((X_all, X_augmented))\n",
        "y_all = np.concatenate((y_all, y_all))\n"
      ],
      "metadata": {
        "id": "Urot8-aBgljz"
      },
      "execution_count": null,
      "outputs": []
    },
    {
      "cell_type": "code",
      "source": [
        "X_all = X_all.reshape(-1, 1, X_all.shape[1])"
      ],
      "metadata": {
        "id": "ZiImxonfgrh2"
      },
      "execution_count": null,
      "outputs": []
    },
    {
      "cell_type": "code",
      "source": [
        "len(X_all)"
      ],
      "metadata": {
        "colab": {
          "base_uri": "https://localhost:8080/"
        },
        "id": "KcbDrJfckIMH",
        "outputId": "744583d3-1841-4d13-891d-cb3bf7c03ae9"
      },
      "execution_count": null,
      "outputs": [
        {
          "output_type": "execute_result",
          "data": {
            "text/plain": [
              "20598"
            ]
          },
          "metadata": {},
          "execution_count": 12
        }
      ]
    },
    {
      "cell_type": "code",
      "source": [
        "# Convert to PyTorch tensors\n",
        "X_all_tensor = torch.tensor(X_all, dtype=torch.float32)\n",
        "y_all_tensor = torch.tensor(y_all, dtype=torch.long)"
      ],
      "metadata": {
        "id": "7P9A7sRQgv7V"
      },
      "execution_count": null,
      "outputs": []
    },
    {
      "cell_type": "code",
      "source": [
        "# Split into train, validation, and test sets\n",
        "X_train_split, X_temp, y_train_split, y_temp = train_test_split(\n",
        "    X_all_tensor, y_all_tensor, test_size=0.3, random_state=42\n",
        ")\n",
        "# %%\n",
        "X_val_split, X_test_split, y_val_split, y_test_split = train_test_split(\n",
        "    X_temp, y_temp, test_size=0.5, random_state=42\n",
        ")"
      ],
      "metadata": {
        "id": "oj_0g3TLg3Aq"
      },
      "execution_count": null,
      "outputs": []
    },
    {
      "cell_type": "code",
      "source": [
        "# Create DataLoaders for train, validation, and test sets\n",
        "train_dataset = TensorDataset(X_train_split, y_train_split)\n",
        "val_dataset = TensorDataset(X_val_split, y_val_split)\n",
        "test_dataset = TensorDataset(X_test_split, y_test_split)\n",
        "\n",
        "train_loader = DataLoader(train_dataset, batch_size=64, shuffle=True)\n",
        "val_loader = DataLoader(val_dataset, batch_size=64, shuffle=False)\n",
        "test_loader = DataLoader(test_dataset, batch_size=64, shuffle=False)"
      ],
      "metadata": {
        "id": "VhLLDj1Lg6A3"
      },
      "execution_count": null,
      "outputs": []
    },
    {
      "cell_type": "code",
      "source": [
        "len(train_dataset)"
      ],
      "metadata": {
        "colab": {
          "base_uri": "https://localhost:8080/"
        },
        "id": "NXa2uvBMhCsn",
        "outputId": "736ca16c-ccd9-4174-934f-a3be5b794119"
      },
      "execution_count": null,
      "outputs": [
        {
          "output_type": "execute_result",
          "data": {
            "text/plain": [
              "14418"
            ]
          },
          "metadata": {},
          "execution_count": 16
        }
      ]
    },
    {
      "cell_type": "code",
      "source": [
        "len(test_dataset)"
      ],
      "metadata": {
        "colab": {
          "base_uri": "https://localhost:8080/"
        },
        "id": "y-839xDzhF8o",
        "outputId": "9bfa1ab2-7287-4c7b-8a5c-f728cf866250"
      },
      "execution_count": null,
      "outputs": [
        {
          "output_type": "execute_result",
          "data": {
            "text/plain": [
              "3090"
            ]
          },
          "metadata": {},
          "execution_count": 17
        }
      ]
    },
    {
      "cell_type": "code",
      "source": [
        "len(val_dataset)"
      ],
      "metadata": {
        "colab": {
          "base_uri": "https://localhost:8080/"
        },
        "id": "oHcFK3m9hIYo",
        "outputId": "d25b2de9-ca39-4f4a-e023-f6dec5683eb0"
      },
      "execution_count": null,
      "outputs": [
        {
          "output_type": "execute_result",
          "data": {
            "text/plain": [
              "3090"
            ]
          },
          "metadata": {},
          "execution_count": 18
        }
      ]
    },
    {
      "cell_type": "code",
      "source": [
        "import torch.nn.functional as F\n",
        "# --- Transformer Model Definition ---\n",
        "class PositionalEncoding(nn.Module):\n",
        "    def __init__(self, d_model, max_sequence_length):\n",
        "        super().__init__()\n",
        "        self.max_sequence_length = max_sequence_length\n",
        "        self.d_model = d_model\n",
        "\n",
        "    def forward(self):\n",
        "        even_i = torch.arange(0, self.d_model, 2).float()\n",
        "        denominator = torch.pow(10000, even_i / self.d_model)\n",
        "        position = torch.arange(self.max_sequence_length).reshape(self.max_sequence_length, 1)\n",
        "        even_PE = torch.sin(position / denominator)\n",
        "        odd_PE = torch.cos(position / denominator)\n",
        "        stacked = torch.stack([even_PE, odd_PE], dim=2)\n",
        "        PE = torch.flatten(stacked, start_dim=1, end_dim=2)\n",
        "        return PE\n",
        "\n",
        "class MultiHeadAttention(nn.Module):\n",
        "    def __init__(self, d_model, num_heads):\n",
        "        super().__init__()\n",
        "        self.d_model = d_model\n",
        "        self.num_heads = num_heads\n",
        "        self.head_dim = d_model // num_heads\n",
        "        self.qkv_layer = nn.Linear(d_model, 3 * d_model)\n",
        "        self.linear_layer = nn.Linear(d_model, d_model)\n",
        "\n",
        "    def forward(self, x, mask=None):\n",
        "        batch_size, sequence_length, d_model = x.size()\n",
        "        qkv = self.qkv_layer(x)\n",
        "        qkv = qkv.reshape(batch_size, sequence_length, self.num_heads, 3 * self.head_dim)\n",
        "        qkv = qkv.permute(0, 2, 1, 3)\n",
        "        q, k, v = qkv.chunk(3, dim=-1)\n",
        "        values, attention = self.scaled_dot_product(q, k, v, mask)\n",
        "        values = values.permute(0, 2, 1, 3).reshape(batch_size, sequence_length, d_model)\n",
        "        out = self.linear_layer(values)\n",
        "        return out\n",
        "\n",
        "    def scaled_dot_product(self, q, k, v, mask=None):\n",
        "        d_k = q.size()[-1]\n",
        "        scaled = torch.matmul(q, k.transpose(-1, -2)) / torch.sqrt(torch.tensor(d_k))\n",
        "        if mask is not None:\n",
        "            scaled += mask\n",
        "        attention = F.softmax(scaled, dim=-1)\n",
        "        values = torch.matmul(attention, v)\n",
        "        return values, attention\n",
        "\n",
        "class EncoderLayer(nn.Module):\n",
        "    def __init__(self, d_model, ffn_hidden, num_heads, drop_prob):\n",
        "        super().__init__()\n",
        "        self.attention = MultiHeadAttention(d_model, num_heads)\n",
        "        self.norm1 = nn.LayerNorm(d_model)\n",
        "        self.dropout1 = nn.Dropout(p=drop_prob)\n",
        "        self.ffn = nn.Sequential(\n",
        "            nn.Linear(d_model, ffn_hidden),\n",
        "            nn.ReLU(),\n",
        "            nn.Dropout(p=drop_prob),\n",
        "            nn.Linear(ffn_hidden, d_model)\n",
        "        )\n",
        "        self.norm2 = nn.LayerNorm(d_model)\n",
        "        self.dropout2 = nn.Dropout(p=drop_prob)\n",
        "\n",
        "    def forward(self, x, mask=None):\n",
        "        residual = x\n",
        "        x = self.attention(x, mask)\n",
        "        x = self.dropout1(x)\n",
        "        x = self.norm1(x + residual)\n",
        "        residual = x\n",
        "        x = self.ffn(x)\n",
        "        x = self.dropout2(x)\n",
        "        x = self.norm2(x + residual)\n",
        "        return x"
      ],
      "metadata": {
        "id": "uYmCwDDRhLO3"
      },
      "execution_count": null,
      "outputs": []
    },
    {
      "cell_type": "code",
      "source": [
        "class TransformerForUCIHAR(nn.Module):\n",
        "    def __init__(self, d_model, ffn_hidden, num_heads, drop_prob, num_layers, max_sequence_length, num_classes, num_features):\n",
        "        super().__init__()\n",
        "        # Sensor embedding layer\n",
        "        self.sensor_embedding = nn.Linear(num_features, d_model)\n",
        "\n",
        "        # Positional encoding\n",
        "        self.positional_encoding = PositionalEncoding(d_model, max_sequence_length)\n",
        "\n",
        "        # Transformer encoder\n",
        "        self.encoder_layers = nn.ModuleList([\n",
        "            EncoderLayer(d_model, ffn_hidden, num_heads, drop_prob) for _ in range(num_layers)\n",
        "        ])\n",
        "\n",
        "        # Classification head\n",
        "        self.classification_head = nn.Linear(d_model, num_classes)\n",
        "\n",
        "    def forward(self, x):\n",
        "        # Add sensor embedding and positional encoding\n",
        "        x = self.sensor_embedding(x) + self.positional_encoding().to(x.device)\n",
        "\n",
        "        # Pass through the encoder layers\n",
        "        for layer in self.encoder_layers:\n",
        "            x = layer(x)\n",
        "\n",
        "        # Global average pooling\n",
        "        x = x.mean(dim=1)\n",
        "\n",
        "        # Predict the activity label\n",
        "        x = self.classification_head(x)\n",
        "        return x"
      ],
      "metadata": {
        "id": "-557U8fthc2e"
      },
      "execution_count": null,
      "outputs": []
    },
    {
      "cell_type": "code",
      "source": [
        "d_model = 64\n",
        "ffn_hidden = 128\n",
        "num_heads = 4\n",
        "drop_prob = 0.1\n",
        "num_layers = 2\n",
        "max_sequence_length = 1  # Sequence length is 1 for UCI HAR Dataset\n",
        "num_classes = 6  # Number of activity classes in UCI HAR Dataset\n",
        "num_features = 561  # Number of features in UCI HAR Dataset"
      ],
      "metadata": {
        "id": "8OQV6a2Bhd4V"
      },
      "execution_count": null,
      "outputs": []
    },
    {
      "cell_type": "code",
      "source": [
        "# Initialize the model\n",
        "device = torch.device('cuda' if torch.cuda.is_available() else 'cpu')\n",
        "model = TransformerForUCIHAR(d_model, ffn_hidden, num_heads, drop_prob, num_layers, max_sequence_length, num_classes, num_features).to(device)"
      ],
      "metadata": {
        "id": "yYfblebKhi5n"
      },
      "execution_count": null,
      "outputs": []
    },
    {
      "cell_type": "code",
      "source": [
        "# --- Loss Function and Optimizer ---\n",
        "criterion = nn.CrossEntropyLoss()\n",
        "optimizer = optim.Adam(model.parameters(), lr=0.001)"
      ],
      "metadata": {
        "id": "Y6hFelNRhm6u"
      },
      "execution_count": null,
      "outputs": []
    },
    {
      "cell_type": "code",
      "source": [
        "# --- Training Loop ---\n",
        "train_losses = []\n",
        "val_losses = []\n",
        "epochs = 20"
      ],
      "metadata": {
        "id": "YZryXIM6hrJt"
      },
      "execution_count": null,
      "outputs": []
    },
    {
      "cell_type": "code",
      "source": [
        "device = torch.device('cuda' if torch.cuda.is_available() else 'cpu')\n",
        "print(f\"Using device: {device}\")\n"
      ],
      "metadata": {
        "colab": {
          "base_uri": "https://localhost:8080/"
        },
        "id": "Ciz6AGILhx7V",
        "outputId": "e3773ec1-7800-4203-eef4-973290ce4b71"
      },
      "execution_count": null,
      "outputs": [
        {
          "output_type": "stream",
          "name": "stdout",
          "text": [
            "Using device: cuda\n"
          ]
        }
      ]
    },
    {
      "cell_type": "code",
      "source": [
        "train_accuracies = []\n",
        "val_accuracies = []\n",
        "correct_train = 0\n",
        "total_train = 0\n",
        "correct_val = 0\n",
        "total_val = 0"
      ],
      "metadata": {
        "id": "U0t8cKfph1pj"
      },
      "execution_count": null,
      "outputs": []
    },
    {
      "cell_type": "code",
      "source": [
        "best_val_loss = float('inf')\n",
        "patience = 5\n",
        "trigger_times = 0\n"
      ],
      "metadata": {
        "id": "5trPBJluh49M"
      },
      "execution_count": null,
      "outputs": []
    },
    {
      "cell_type": "code",
      "source": [
        "for epoch in range(epochs):\n",
        "    model.train()\n",
        "    epoch_train_loss = 0\n",
        "    for batch_idx, (data, target) in enumerate(train_loader):\n",
        "        data, target = data.to(device), target.to(device)\n",
        "        optimizer.zero_grad()\n",
        "        output = model(data)\n",
        "        loss = criterion(output, target)\n",
        "        loss.backward()\n",
        "        optimizer.step()\n",
        "        epoch_train_loss += loss.item()\n",
        "        _,predicted = torch.max(output.data, 1)\n",
        "        total_train += target.size(0)\n",
        "        correct_train += (predicted == target).sum().item()\n",
        "    train_losses.append(epoch_train_loss / len(train_loader))\n",
        "    train_accuracies.append(correct_train / total_train)\n",
        "\n",
        "    model.eval()\n",
        "    epoch_val_loss = 0\n",
        "    with torch.no_grad():\n",
        "        for data, target in val_loader:\n",
        "            data, target = data.to(device), target.to(device)\n",
        "            output = model(data)\n",
        "            loss = criterion(output, target)\n",
        "            epoch_val_loss += loss.item()\n",
        "            _,predicted = torch.max(output.data, 1)\n",
        "            total_val += target.size(0)\n",
        "            correct_val += (predicted == target).sum().item()\n",
        "    val_losses.append(epoch_val_loss / len(val_loader))\n",
        "    val_accuracies.append(correct_val / total_val)\n",
        "\n",
        "\n",
        "\n",
        "    print(f\"Epoch {epoch+1}/{epochs}, Train Loss: {train_losses[-1]:.4f}, Validation Loss: {val_losses[-1]:.4f}\")\n",
        "\n",
        "    if val_losses[-1] < best_val_loss:\n",
        "         best_val_loss = val_losses[-1]\n",
        "         trigger_times = 0\n",
        "    else:\n",
        "         trigger_times +=1\n",
        "    if trigger_times > patience:\n",
        "         print(\"Early stopping triggered\")\n",
        "         break"
      ],
      "metadata": {
        "colab": {
          "base_uri": "https://localhost:8080/"
        },
        "id": "7QymiSbIh8WM",
        "outputId": "d1e3fcd1-8103-48b0-de5f-1b4b7266100c"
      },
      "execution_count": null,
      "outputs": [
        {
          "output_type": "stream",
          "name": "stdout",
          "text": [
            "Epoch 1/20, Train Loss: 0.2485, Validation Loss: 0.0888\n",
            "Epoch 2/20, Train Loss: 0.0834, Validation Loss: 0.1010\n",
            "Epoch 3/20, Train Loss: 0.0659, Validation Loss: 0.0627\n",
            "Epoch 4/20, Train Loss: 0.0624, Validation Loss: 0.0534\n",
            "Epoch 5/20, Train Loss: 0.0518, Validation Loss: 0.0436\n",
            "Epoch 6/20, Train Loss: 0.0466, Validation Loss: 0.0511\n",
            "Epoch 7/20, Train Loss: 0.0453, Validation Loss: 0.0598\n",
            "Epoch 8/20, Train Loss: 0.0449, Validation Loss: 0.0398\n",
            "Epoch 9/20, Train Loss: 0.0360, Validation Loss: 0.0510\n",
            "Epoch 10/20, Train Loss: 0.0338, Validation Loss: 0.0348\n",
            "Epoch 11/20, Train Loss: 0.0357, Validation Loss: 0.0371\n",
            "Epoch 12/20, Train Loss: 0.0311, Validation Loss: 0.0346\n",
            "Epoch 13/20, Train Loss: 0.0223, Validation Loss: 0.0277\n",
            "Epoch 14/20, Train Loss: 0.0213, Validation Loss: 0.0377\n",
            "Epoch 15/20, Train Loss: 0.0259, Validation Loss: 0.0729\n",
            "Epoch 16/20, Train Loss: 0.0229, Validation Loss: 0.0484\n",
            "Epoch 17/20, Train Loss: 0.0175, Validation Loss: 0.0271\n",
            "Epoch 18/20, Train Loss: 0.0157, Validation Loss: 0.0309\n",
            "Epoch 19/20, Train Loss: 0.0221, Validation Loss: 0.0351\n",
            "Epoch 20/20, Train Loss: 0.0212, Validation Loss: 0.0315\n"
          ]
        }
      ]
    },
    {
      "cell_type": "code",
      "source": [
        "# Plotting the training and validation loss\n",
        "plt.figure(figsize=(12, 6))\n",
        "plt.subplot(1, 2, 1)\n",
        "plt.plot(train_losses, label='Training Loss')\n",
        "plt.plot(val_losses, label='Validation Loss')\n",
        "plt.xlabel('Epoch')\n",
        "plt.ylabel('Loss')\n",
        "plt.title('Training and Validation Loss')\n",
        "plt.legend()"
      ],
      "metadata": {
        "colab": {
          "base_uri": "https://localhost:8080/",
          "height": 581
        },
        "id": "WDnhER3BiCOx",
        "outputId": "6ce17098-835f-403d-c710-a990db9e4abc"
      },
      "execution_count": null,
      "outputs": [
        {
          "output_type": "execute_result",
          "data": {
            "text/plain": [
              "<matplotlib.legend.Legend at 0x786737058ed0>"
            ]
          },
          "metadata": {},
          "execution_count": 29
        },
        {
          "output_type": "display_data",
          "data": {
            "text/plain": [
              "<Figure size 1200x600 with 1 Axes>"
            ],
            "image/png": "[encoded data removed]"
          },
          "metadata": {}
        }
      ]
    },
    {
      "cell_type": "code",
      "source": [
        "# Plotting the training and validation accuracy\n",
        "plt.subplot(1, 2, 2)\n",
        "plt.plot(train_accuracies, label='Training Accuracy')\n",
        "plt.plot(val_accuracies, label='Validation Accuracy')\n",
        "plt.xlabel('Epoch')\n",
        "plt.ylabel('Accuracy')\n",
        "plt.title('Training and Validation Accuracy')\n",
        "plt.legend()\n",
        "plt.show()"
      ],
      "metadata": {
        "colab": {
          "base_uri": "https://localhost:8080/",
          "height": 472
        },
        "id": "hEJI_brBiFuP",
        "outputId": "1e6083f9-1a0b-4bc4-ed58-33342bd0c460"
      },
      "execution_count": null,
      "outputs": [
        {
          "output_type": "display_data",
          "data": {
            "text/plain": [
              "<Figure size 640x480 with 1 Axes>"
            ],
            "image/png": "[encoded data removed]"
          },
          "metadata": {}
        }
      ]
    },
    {
      "cell_type": "code",
      "source": [
        "# --- Model Evaluation on Test Set ---\n",
        "model.eval()\n",
        "with torch.no_grad():\n",
        "    # Use X_test_split instead of X_test_tensor\n",
        "    X_test_tensor = X_test_split.to(device)  # Move test data to device\n",
        "    test_outputs = model(X_test_tensor)\n",
        "    _, test_preds = torch.max(test_outputs, 1)\n",
        "    # Move y_test_split to device\n",
        "    test_loss = criterion(test_outputs, y_test_split.to(device))\n",
        "    test_accuracy = accuracy_score(y_test_split.cpu().numpy(), test_preds.cpu().numpy())\n",
        "    print(f\"Test Loss: {test_loss.item()}, Test Accuracy: {test_accuracy * 100:.2f}%\")"
      ],
      "metadata": {
        "colab": {
          "base_uri": "https://localhost:8080/"
        },
        "id": "zDJMRyrriI5F",
        "outputId": "5c0dcbcd-941d-4db3-ff1b-5056f4a191d1"
      },
      "execution_count": null,
      "outputs": [
        {
          "output_type": "stream",
          "name": "stdout",
          "text": [
            "Test Loss: 0.024553589522838593, Test Accuracy: 99.22%\n"
          ]
        }
      ]
    },
    {
      "cell_type": "code",
      "source": [
        "y_test_tensor = y_test_split.to(device)\n",
        "\n",
        "cm = confusion_matrix(y_test_tensor.cpu().numpy(), test_preds.cpu().numpy())"
      ],
      "metadata": {
        "id": "w6YcvojniOFQ"
      },
      "execution_count": null,
      "outputs": []
    },
    {
      "cell_type": "code",
      "source": [
        "y_test_tensor = y_test_split.to(device)\n",
        "\n",
        "cm = confusion_matrix(y_test_tensor.cpu().numpy(), test_preds.cpu().numpy())\n",
        "# Plot the confusion matrix using seaborn\n",
        "plt.figure(figsize=(10, 7))\n",
        "sns.heatmap(cm, annot=True, fmt=\"d\", cmap=\"Blues\")\n",
        "plt.xlabel(\"Predicted Labels\")\n",
        "plt.ylabel(\"True Labels\")\n",
        "plt.title(\"Confusion Matrix\")\n",
        "plt.show()\n",
        "print(f\"Accuracy: {accuracy_score(y_test_tensor.cpu().numpy(), test_preds.cpu().numpy())}\")"
      ],
      "metadata": {
        "colab": {
          "base_uri": "https://localhost:8080/",
          "height": 658
        },
        "id": "N4iyAIXX4e5r",
        "outputId": "c6a1c43b-e523-4b11-fd4c-cd4578c3c06e"
      },
      "execution_count": null,
      "outputs": [
        {
          "output_type": "display_data",
          "data": {
            "text/plain": [
              "<Figure size 1000x700 with 2 Axes>"
            ],
            "image/png": "[encoded data removed]"
          },
          "metadata": {}
        },
        {
          "output_type": "stream",
          "name": "stdout",
          "text": [
            "Accuracy: 0.9922330097087378\n"
          ]
        }
      ]
    },
    {
      "cell_type": "code",
      "source": [
        "from sklearn.metrics import precision_score, recall_score, f1_score, classification_report\n"
      ],
      "metadata": {
        "id": "1USSKfiTiZq6"
      },
      "execution_count": null,
      "outputs": []
    },
    {
      "cell_type": "code",
      "source": [
        "# Calculate metrics\n",
        "precision = precision_score(y_test_tensor.cpu().numpy(), test_preds.cpu().numpy(), average='weighted')\n",
        "recall = recall_score(y_test_tensor.cpu().numpy(), test_preds.cpu().numpy(), average='weighted')\n",
        "f1 = f1_score(y_test_tensor.cpu().numpy(), test_preds.cpu().numpy(), average='weighted')\n",
        "\n",
        "# Print the metrics\n",
        "print(f\"Precision: {precision:.4f}\")\n",
        "print(f\"Recall: {recall:.4f}\")\n",
        "print(f\"F1-score: {f1:.4f}\")\n",
        "\n",
        "# Print the classification report for class-wise metrics and averages\n",
        "print(classification_report(y_test_tensor.cpu().numpy(), test_preds.cpu().numpy()))"
      ],
      "metadata": {
        "colab": {
          "base_uri": "https://localhost:8080/"
        },
        "id": "PSVkQve0i39b",
        "outputId": "109e8dc3-1e41-4cc8-b90b-0507708b8552"
      },
      "execution_count": null,
      "outputs": [
        {
          "output_type": "stream",
          "name": "stdout",
          "text": [
            "Precision: 0.9923\n",
            "Recall: 0.9922\n",
            "F1-score: 0.9922\n",
            "              precision    recall  f1-score   support\n",
            "\n",
            "           0       1.00      1.00      1.00       504\n",
            "           1       1.00      1.00      1.00       429\n",
            "           2       1.00      1.00      1.00       437\n",
            "           3       0.97      0.99      0.98       527\n",
            "           4       0.99      0.97      0.98       590\n",
            "           5       1.00      1.00      1.00       603\n",
            "\n",
            "    accuracy                           0.99      3090\n",
            "   macro avg       0.99      0.99      0.99      3090\n",
            "weighted avg       0.99      0.99      0.99      3090\n",
            "\n"
          ]
        }
      ]
    },
    {
      "cell_type": "code",
      "source": [
        "print(\"\\n--- Summary of Accuracies ---\")\n",
        "print(f\"Final Training Accuracy: {train_accuracies[-1]:.4f}\")\n",
        "print(f\"Final Validation Accuracy: {val_accuracies[-1]:.4f}\")\n",
        "print(f\"Test Accuracy: {test_accuracy:.4f}\")"
      ],
      "metadata": {
        "colab": {
          "base_uri": "https://localhost:8080/"
        },
        "id": "zFrx3awmi7f9",
        "outputId": "bc2d6095-50d0-4b81-e47f-bfd0d3505faa"
      },
      "execution_count": null,
      "outputs": [
        {
          "output_type": "stream",
          "name": "stdout",
          "text": [
            "\n",
            "--- Summary of Accuracies ---\n",
            "Final Training Accuracy: 0.9821\n",
            "Final Validation Accuracy: 0.9815\n",
            "Test Accuracy: 0.9922\n"
          ]
        }
      ]
    },
    {
      "cell_type": "code",
      "source": [
        "if test_accuracy < val_accuracies[-1] - 0.05: # added a condition here to see if test set has a much lower accuracy.\n",
        "       print(\"\\nTest accuracy is significantly lower than validation accuracy. This suggests possible overfitting.\")\n",
        "elif test_accuracy < train_accuracies[-1] - 0.05: # added a condition here to see if test set has a much lower accuracy than train set.\n",
        "       print(\"\\nTest accuracy is significantly lower than training accuracy. This suggests possible overfitting.\")\n",
        "elif test_accuracy > train_accuracies[-1] + 0.05 or test_accuracy > val_accuracies[-1] + 0.05: # added a condition here to see if the test set accuracy is much better than training and validation.\n",
        "      print(\"\\nTest accuracy is much better than validation and training accuracy. This may mean something is wrong with the splitting of your data.\")\n",
        "else:\n",
        "      print(\"\\nTest accuracy is close to training and validation accuracy. This suggests good generalization.\")"
      ],
      "metadata": {
        "colab": {
          "base_uri": "https://localhost:8080/"
        },
        "id": "9YPdOuRKi_La",
        "outputId": "2c966499-edc5-48ea-e821-88023e629faa"
      },
      "execution_count": null,
      "outputs": [
        {
          "output_type": "stream",
          "name": "stdout",
          "text": [
            "\n",
            "Test accuracy is close to training and validation accuracy. This suggests good generalization.\n"
          ]
        }
      ]
    }
  ]
}